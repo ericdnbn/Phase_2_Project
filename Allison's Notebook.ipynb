{
 "cells": [
  {
   "cell_type": "markdown",
   "metadata": {},
   "source": [
    "## Final Project Submission\n",
    "\n",
    "Please fill out:\n",
    "* Student name: Allison Gao\n",
    "* Student pace: full time\n",
    "* Scheduled project review date/time: 08/27/2021\n",
    "* Instructor name: \n",
    "* Blog post URL:\n"
   ]
  },
  {
   "cell_type": "code",
   "execution_count": 1,
   "metadata": {},
   "outputs": [],
   "source": [
    "import pandas as pd\n",
    "import numpy as np\n",
    "from matplotlib import pyplot as plt\n",
    "from mpl_toolkits.mplot3d import Axes3D\n",
    "from random import gauss\n",
    "from scipy import stats\n",
    "import seaborn as sns\n",
    "from sklearn.linear_model import LinearRegression\n",
    "from mpl_toolkits import mplot3d\n",
    "import sklearn.metrics as metrics\n",
    "import statsmodels.api as sm\n",
    "from sklearn.preprocessing import OneHotEncoder, StandardScaler\n",
    "from sklearn.datasets import make_regression\n",
    "import statsmodels\n",
    "from statsmodels.formula.api import ols\n",
    "from sklearn.linear_model import LinearRegression\n",
    "from sklearn.metrics import mean_squared_error\n",
    "from sklearn.preprocessing import PolynomialFeatures\n",
    "from sklearn.model_selection import train_test_split\n",
    "from sklearn.preprocessing import StandardScaler\n",
    "from sklearn.model_selection import cross_validate\n",
    "\n",
    "%matplotlib inline"
   ]
  },
  {
   "cell_type": "markdown",
   "metadata": {},
   "source": [
    "## Cleaning/Exploring Data"
   ]
  },
  {
   "cell_type": "code",
   "execution_count": 2,
   "metadata": {},
   "outputs": [],
   "source": [
    "df1 = pd.read_csv(\"data/kc_house_data.csv\")"
   ]
  },
  {
   "cell_type": "code",
   "execution_count": 3,
   "metadata": {},
   "outputs": [
    {
     "data": {
      "text/plain": [
       "(21597, 21)"
      ]
     },
     "execution_count": 3,
     "metadata": {},
     "output_type": "execute_result"
    }
   ],
   "source": [
    "df1.shape"
   ]
  },
  {
   "cell_type": "code",
   "execution_count": 4,
   "metadata": {},
   "outputs": [],
   "source": [
    "#created a new column that converted year built into house age \n",
    "df1[\"house_age\"] = 2021 - df1[\"yr_built\"]"
   ]
  },
  {
   "cell_type": "code",
   "execution_count": 5,
   "metadata": {},
   "outputs": [],
   "source": [
    "#dropped columns not relevant for the purpose of our analysis \n",
    "df1 = df1.drop(columns=[\"id\",\"yr_built\"])"
   ]
  },
  {
   "cell_type": "code",
   "execution_count": 6,
   "metadata": {},
   "outputs": [
    {
     "data": {
      "text/plain": [
       "(15762, 20)"
      ]
     },
     "execution_count": 6,
     "metadata": {},
     "output_type": "execute_result"
    }
   ],
   "source": [
    "#dropped rows containing NaN or missing values\n",
    "df1 = df1.dropna(axis=0, how='any')\n",
    "df1.shape"
   ]
  },
  {
   "cell_type": "code",
   "execution_count": 7,
   "metadata": {},
   "outputs": [],
   "source": [
    "#pd.set_option(\"display.max_rows\", None)"
   ]
  },
  {
   "cell_type": "code",
   "execution_count": 8,
   "metadata": {},
   "outputs": [],
   "source": [
    "#drop outlier\n",
    "df1 = df1[df1.bedrooms != 33]"
   ]
  },
  {
   "cell_type": "code",
   "execution_count": 9,
   "metadata": {
    "scrolled": false
   },
   "outputs": [],
   "source": [
    "df1 = df1[df1.sqft_basement != \"?\"]"
   ]
  },
  {
   "cell_type": "code",
   "execution_count": 10,
   "metadata": {},
   "outputs": [],
   "source": [
    "df1[\"sqft_basement\"] = df1[\"sqft_basement\"].astype(str).astype(float).astype(int)"
   ]
  },
  {
   "cell_type": "code",
   "execution_count": 11,
   "metadata": {},
   "outputs": [],
   "source": [
    "# 1 means there is a basement\n",
    "df1[\"sqft_basement\"] = [1 if x > 0 else 0 for x in df1[\"sqft_basement\"]]"
   ]
  },
  {
   "cell_type": "code",
   "execution_count": 12,
   "metadata": {},
   "outputs": [
    {
     "data": {
      "text/plain": [
       "0    9362\n",
       "1    6066\n",
       "Name: sqft_basement, dtype: int64"
      ]
     },
     "execution_count": 12,
     "metadata": {},
     "output_type": "execute_result"
    }
   ],
   "source": [
    "df1[\"sqft_basement\"].value_counts()"
   ]
  },
  {
   "cell_type": "code",
   "execution_count": 13,
   "metadata": {},
   "outputs": [],
   "source": [
    "#north of the county is 1 and south is zero \n",
    "\n",
    "\n",
    "def label_lat (row):\n",
    "    if row['lat'] >= 47.5000 :\n",
    "        return 1\n",
    "    else:\n",
    "        return 0 \n"
   ]
  },
  {
   "cell_type": "code",
   "execution_count": 14,
   "metadata": {},
   "outputs": [],
   "source": [
    "#west side of the county is 1 and east side is zero \n",
    "\n",
    "def label_long (row):\n",
    "    if row['long'] <= (-122.0000) :\n",
    "        return 1\n",
    "    else:\n",
    "        return 0 \n"
   ]
  },
  {
   "cell_type": "code",
   "execution_count": 15,
   "metadata": {},
   "outputs": [],
   "source": [
    "df1['county_lat'] = df1.apply (lambda row: label_lat(row), axis=1)"
   ]
  },
  {
   "cell_type": "code",
   "execution_count": 16,
   "metadata": {},
   "outputs": [],
   "source": [
    "df1['county_long'] = df1.apply (lambda row: label_long(row), axis=1)"
   ]
  },
  {
   "cell_type": "code",
   "execution_count": 17,
   "metadata": {},
   "outputs": [],
   "source": [
    "cleaned_df = df1"
   ]
  },
  {
   "cell_type": "code",
   "execution_count": 18,
   "metadata": {},
   "outputs": [
    {
     "data": {
      "text/plain": [
       "1    10691\n",
       "0     4737\n",
       "Name: county_lat, dtype: int64"
      ]
     },
     "execution_count": 18,
     "metadata": {},
     "output_type": "execute_result"
    }
   ],
   "source": [
    "cleaned_df[\"county_lat\"].value_counts()"
   ]
  },
  {
   "cell_type": "code",
   "execution_count": 19,
   "metadata": {},
   "outputs": [
    {
     "data": {
      "text/plain": [
       "1    14378\n",
       "0     1050\n",
       "Name: county_long, dtype: int64"
      ]
     },
     "execution_count": 19,
     "metadata": {},
     "output_type": "execute_result"
    }
   ],
   "source": [
    "cleaned_df[\"county_long\"].value_counts()"
   ]
  },
  {
   "cell_type": "code",
   "execution_count": 20,
   "metadata": {},
   "outputs": [],
   "source": [
    "non_normal = ['price', 'bedrooms', 'sqft_living', 'sqft_lot', 'sqft_above','sqft_lot15', 'sqft_living15', 'house_age']\n",
    "for feat in non_normal:\n",
    "    cleaned_df[feat] = cleaned_df[feat].map(lambda x: np.log(x))"
   ]
  },
  {
   "cell_type": "code",
   "execution_count": 21,
   "metadata": {},
   "outputs": [
    {
     "data": {
      "text/html": [
       "<div>\n",
       "<style scoped>\n",
       "    .dataframe tbody tr th:only-of-type {\n",
       "        vertical-align: middle;\n",
       "    }\n",
       "\n",
       "    .dataframe tbody tr th {\n",
       "        vertical-align: top;\n",
       "    }\n",
       "\n",
       "    .dataframe thead th {\n",
       "        text-align: right;\n",
       "    }\n",
       "</style>\n",
       "<table border=\"1\" class=\"dataframe\">\n",
       "  <thead>\n",
       "    <tr style=\"text-align: right;\">\n",
       "      <th></th>\n",
       "      <th>date</th>\n",
       "      <th>price</th>\n",
       "      <th>bedrooms</th>\n",
       "      <th>bathrooms</th>\n",
       "      <th>sqft_living</th>\n",
       "      <th>sqft_lot</th>\n",
       "      <th>floors</th>\n",
       "      <th>waterfront</th>\n",
       "      <th>view</th>\n",
       "      <th>condition</th>\n",
       "      <th>...</th>\n",
       "      <th>sqft_basement</th>\n",
       "      <th>yr_renovated</th>\n",
       "      <th>zipcode</th>\n",
       "      <th>lat</th>\n",
       "      <th>long</th>\n",
       "      <th>sqft_living15</th>\n",
       "      <th>sqft_lot15</th>\n",
       "      <th>house_age</th>\n",
       "      <th>county_lat</th>\n",
       "      <th>county_long</th>\n",
       "    </tr>\n",
       "  </thead>\n",
       "  <tbody>\n",
       "    <tr>\n",
       "      <th>1</th>\n",
       "      <td>12/9/2014</td>\n",
       "      <td>13.195614</td>\n",
       "      <td>1.098612</td>\n",
       "      <td>2.25</td>\n",
       "      <td>7.851661</td>\n",
       "      <td>8.887653</td>\n",
       "      <td>2.0</td>\n",
       "      <td>0.0</td>\n",
       "      <td>0.0</td>\n",
       "      <td>3</td>\n",
       "      <td>...</td>\n",
       "      <td>1</td>\n",
       "      <td>1991.0</td>\n",
       "      <td>98125</td>\n",
       "      <td>47.7210</td>\n",
       "      <td>-122.319</td>\n",
       "      <td>7.432484</td>\n",
       "      <td>8.941022</td>\n",
       "      <td>4.248495</td>\n",
       "      <td>1</td>\n",
       "      <td>1</td>\n",
       "    </tr>\n",
       "    <tr>\n",
       "      <th>3</th>\n",
       "      <td>12/9/2014</td>\n",
       "      <td>13.311329</td>\n",
       "      <td>1.386294</td>\n",
       "      <td>3.00</td>\n",
       "      <td>7.580700</td>\n",
       "      <td>8.517193</td>\n",
       "      <td>1.0</td>\n",
       "      <td>0.0</td>\n",
       "      <td>0.0</td>\n",
       "      <td>5</td>\n",
       "      <td>...</td>\n",
       "      <td>1</td>\n",
       "      <td>0.0</td>\n",
       "      <td>98136</td>\n",
       "      <td>47.5208</td>\n",
       "      <td>-122.393</td>\n",
       "      <td>7.215240</td>\n",
       "      <td>8.517193</td>\n",
       "      <td>4.025352</td>\n",
       "      <td>1</td>\n",
       "      <td>1</td>\n",
       "    </tr>\n",
       "    <tr>\n",
       "      <th>4</th>\n",
       "      <td>2/18/2015</td>\n",
       "      <td>13.142166</td>\n",
       "      <td>1.098612</td>\n",
       "      <td>2.00</td>\n",
       "      <td>7.426549</td>\n",
       "      <td>8.997147</td>\n",
       "      <td>1.0</td>\n",
       "      <td>0.0</td>\n",
       "      <td>0.0</td>\n",
       "      <td>3</td>\n",
       "      <td>...</td>\n",
       "      <td>0</td>\n",
       "      <td>0.0</td>\n",
       "      <td>98074</td>\n",
       "      <td>47.6168</td>\n",
       "      <td>-122.045</td>\n",
       "      <td>7.495542</td>\n",
       "      <td>8.923058</td>\n",
       "      <td>3.526361</td>\n",
       "      <td>1</td>\n",
       "      <td>1</td>\n",
       "    </tr>\n",
       "    <tr>\n",
       "      <th>5</th>\n",
       "      <td>5/12/2014</td>\n",
       "      <td>14.022525</td>\n",
       "      <td>1.386294</td>\n",
       "      <td>4.50</td>\n",
       "      <td>8.597851</td>\n",
       "      <td>11.532042</td>\n",
       "      <td>1.0</td>\n",
       "      <td>0.0</td>\n",
       "      <td>0.0</td>\n",
       "      <td>3</td>\n",
       "      <td>...</td>\n",
       "      <td>1</td>\n",
       "      <td>0.0</td>\n",
       "      <td>98053</td>\n",
       "      <td>47.6561</td>\n",
       "      <td>-122.005</td>\n",
       "      <td>8.468003</td>\n",
       "      <td>11.532042</td>\n",
       "      <td>2.995732</td>\n",
       "      <td>1</td>\n",
       "      <td>1</td>\n",
       "    </tr>\n",
       "    <tr>\n",
       "      <th>8</th>\n",
       "      <td>4/15/2015</td>\n",
       "      <td>12.343658</td>\n",
       "      <td>1.098612</td>\n",
       "      <td>1.00</td>\n",
       "      <td>7.484369</td>\n",
       "      <td>8.918650</td>\n",
       "      <td>1.0</td>\n",
       "      <td>0.0</td>\n",
       "      <td>0.0</td>\n",
       "      <td>3</td>\n",
       "      <td>...</td>\n",
       "      <td>1</td>\n",
       "      <td>0.0</td>\n",
       "      <td>98146</td>\n",
       "      <td>47.5123</td>\n",
       "      <td>-122.337</td>\n",
       "      <td>7.484369</td>\n",
       "      <td>9.001223</td>\n",
       "      <td>4.110874</td>\n",
       "      <td>1</td>\n",
       "      <td>1</td>\n",
       "    </tr>\n",
       "    <tr>\n",
       "      <th>...</th>\n",
       "      <td>...</td>\n",
       "      <td>...</td>\n",
       "      <td>...</td>\n",
       "      <td>...</td>\n",
       "      <td>...</td>\n",
       "      <td>...</td>\n",
       "      <td>...</td>\n",
       "      <td>...</td>\n",
       "      <td>...</td>\n",
       "      <td>...</td>\n",
       "      <td>...</td>\n",
       "      <td>...</td>\n",
       "      <td>...</td>\n",
       "      <td>...</td>\n",
       "      <td>...</td>\n",
       "      <td>...</td>\n",
       "      <td>...</td>\n",
       "      <td>...</td>\n",
       "      <td>...</td>\n",
       "      <td>...</td>\n",
       "      <td>...</td>\n",
       "    </tr>\n",
       "    <tr>\n",
       "      <th>21591</th>\n",
       "      <td>2/19/2015</td>\n",
       "      <td>13.071070</td>\n",
       "      <td>1.098612</td>\n",
       "      <td>2.50</td>\n",
       "      <td>7.177782</td>\n",
       "      <td>7.165493</td>\n",
       "      <td>2.0</td>\n",
       "      <td>0.0</td>\n",
       "      <td>0.0</td>\n",
       "      <td>3</td>\n",
       "      <td>...</td>\n",
       "      <td>1</td>\n",
       "      <td>0.0</td>\n",
       "      <td>98116</td>\n",
       "      <td>47.5773</td>\n",
       "      <td>-122.409</td>\n",
       "      <td>7.192934</td>\n",
       "      <td>7.142827</td>\n",
       "      <td>2.564949</td>\n",
       "      <td>1</td>\n",
       "      <td>1</td>\n",
       "    </tr>\n",
       "    <tr>\n",
       "      <th>21592</th>\n",
       "      <td>5/21/2014</td>\n",
       "      <td>12.793859</td>\n",
       "      <td>1.098612</td>\n",
       "      <td>2.50</td>\n",
       "      <td>7.333023</td>\n",
       "      <td>7.030857</td>\n",
       "      <td>3.0</td>\n",
       "      <td>0.0</td>\n",
       "      <td>0.0</td>\n",
       "      <td>3</td>\n",
       "      <td>...</td>\n",
       "      <td>0</td>\n",
       "      <td>0.0</td>\n",
       "      <td>98103</td>\n",
       "      <td>47.6993</td>\n",
       "      <td>-122.346</td>\n",
       "      <td>7.333023</td>\n",
       "      <td>7.319202</td>\n",
       "      <td>2.484907</td>\n",
       "      <td>1</td>\n",
       "      <td>1</td>\n",
       "    </tr>\n",
       "    <tr>\n",
       "      <th>21593</th>\n",
       "      <td>2/23/2015</td>\n",
       "      <td>12.899220</td>\n",
       "      <td>1.386294</td>\n",
       "      <td>2.50</td>\n",
       "      <td>7.745003</td>\n",
       "      <td>8.667852</td>\n",
       "      <td>2.0</td>\n",
       "      <td>0.0</td>\n",
       "      <td>0.0</td>\n",
       "      <td>3</td>\n",
       "      <td>...</td>\n",
       "      <td>0</td>\n",
       "      <td>0.0</td>\n",
       "      <td>98146</td>\n",
       "      <td>47.5107</td>\n",
       "      <td>-122.362</td>\n",
       "      <td>7.512071</td>\n",
       "      <td>8.881836</td>\n",
       "      <td>1.945910</td>\n",
       "      <td>1</td>\n",
       "      <td>1</td>\n",
       "    </tr>\n",
       "    <tr>\n",
       "      <th>21594</th>\n",
       "      <td>6/23/2014</td>\n",
       "      <td>12.904459</td>\n",
       "      <td>0.693147</td>\n",
       "      <td>0.75</td>\n",
       "      <td>6.927558</td>\n",
       "      <td>7.207860</td>\n",
       "      <td>2.0</td>\n",
       "      <td>0.0</td>\n",
       "      <td>0.0</td>\n",
       "      <td>3</td>\n",
       "      <td>...</td>\n",
       "      <td>0</td>\n",
       "      <td>0.0</td>\n",
       "      <td>98144</td>\n",
       "      <td>47.5944</td>\n",
       "      <td>-122.299</td>\n",
       "      <td>6.927558</td>\n",
       "      <td>7.604396</td>\n",
       "      <td>2.484907</td>\n",
       "      <td>1</td>\n",
       "      <td>1</td>\n",
       "    </tr>\n",
       "    <tr>\n",
       "      <th>21596</th>\n",
       "      <td>10/15/2014</td>\n",
       "      <td>12.691580</td>\n",
       "      <td>0.693147</td>\n",
       "      <td>0.75</td>\n",
       "      <td>6.927558</td>\n",
       "      <td>6.981006</td>\n",
       "      <td>2.0</td>\n",
       "      <td>0.0</td>\n",
       "      <td>0.0</td>\n",
       "      <td>3</td>\n",
       "      <td>...</td>\n",
       "      <td>0</td>\n",
       "      <td>0.0</td>\n",
       "      <td>98144</td>\n",
       "      <td>47.5941</td>\n",
       "      <td>-122.299</td>\n",
       "      <td>6.927558</td>\n",
       "      <td>7.213032</td>\n",
       "      <td>2.564949</td>\n",
       "      <td>1</td>\n",
       "      <td>1</td>\n",
       "    </tr>\n",
       "  </tbody>\n",
       "</table>\n",
       "<p>15428 rows × 22 columns</p>\n",
       "</div>"
      ],
      "text/plain": [
       "             date      price  bedrooms  bathrooms  sqft_living   sqft_lot  \\\n",
       "1       12/9/2014  13.195614  1.098612       2.25     7.851661   8.887653   \n",
       "3       12/9/2014  13.311329  1.386294       3.00     7.580700   8.517193   \n",
       "4       2/18/2015  13.142166  1.098612       2.00     7.426549   8.997147   \n",
       "5       5/12/2014  14.022525  1.386294       4.50     8.597851  11.532042   \n",
       "8       4/15/2015  12.343658  1.098612       1.00     7.484369   8.918650   \n",
       "...           ...        ...       ...        ...          ...        ...   \n",
       "21591   2/19/2015  13.071070  1.098612       2.50     7.177782   7.165493   \n",
       "21592   5/21/2014  12.793859  1.098612       2.50     7.333023   7.030857   \n",
       "21593   2/23/2015  12.899220  1.386294       2.50     7.745003   8.667852   \n",
       "21594   6/23/2014  12.904459  0.693147       0.75     6.927558   7.207860   \n",
       "21596  10/15/2014  12.691580  0.693147       0.75     6.927558   6.981006   \n",
       "\n",
       "       floors  waterfront  view  condition  ...  sqft_basement  yr_renovated  \\\n",
       "1         2.0         0.0   0.0          3  ...              1        1991.0   \n",
       "3         1.0         0.0   0.0          5  ...              1           0.0   \n",
       "4         1.0         0.0   0.0          3  ...              0           0.0   \n",
       "5         1.0         0.0   0.0          3  ...              1           0.0   \n",
       "8         1.0         0.0   0.0          3  ...              1           0.0   \n",
       "...       ...         ...   ...        ...  ...            ...           ...   \n",
       "21591     2.0         0.0   0.0          3  ...              1           0.0   \n",
       "21592     3.0         0.0   0.0          3  ...              0           0.0   \n",
       "21593     2.0         0.0   0.0          3  ...              0           0.0   \n",
       "21594     2.0         0.0   0.0          3  ...              0           0.0   \n",
       "21596     2.0         0.0   0.0          3  ...              0           0.0   \n",
       "\n",
       "       zipcode      lat     long  sqft_living15  sqft_lot15  house_age  \\\n",
       "1        98125  47.7210 -122.319       7.432484    8.941022   4.248495   \n",
       "3        98136  47.5208 -122.393       7.215240    8.517193   4.025352   \n",
       "4        98074  47.6168 -122.045       7.495542    8.923058   3.526361   \n",
       "5        98053  47.6561 -122.005       8.468003   11.532042   2.995732   \n",
       "8        98146  47.5123 -122.337       7.484369    9.001223   4.110874   \n",
       "...        ...      ...      ...            ...         ...        ...   \n",
       "21591    98116  47.5773 -122.409       7.192934    7.142827   2.564949   \n",
       "21592    98103  47.6993 -122.346       7.333023    7.319202   2.484907   \n",
       "21593    98146  47.5107 -122.362       7.512071    8.881836   1.945910   \n",
       "21594    98144  47.5944 -122.299       6.927558    7.604396   2.484907   \n",
       "21596    98144  47.5941 -122.299       6.927558    7.213032   2.564949   \n",
       "\n",
       "       county_lat  county_long  \n",
       "1               1            1  \n",
       "3               1            1  \n",
       "4               1            1  \n",
       "5               1            1  \n",
       "8               1            1  \n",
       "...           ...          ...  \n",
       "21591           1            1  \n",
       "21592           1            1  \n",
       "21593           1            1  \n",
       "21594           1            1  \n",
       "21596           1            1  \n",
       "\n",
       "[15428 rows x 22 columns]"
      ]
     },
     "execution_count": 21,
     "metadata": {},
     "output_type": "execute_result"
    }
   ],
   "source": [
    "cleaned_df"
   ]
  },
  {
   "cell_type": "code",
   "execution_count": 22,
   "metadata": {},
   "outputs": [],
   "source": [
    "cleaned_df['sqft_living_waterfront'] = cleaned_df['sqft_living'] * cleaned_df['waterfront']\n",
    "cleaned_df['sqft_house_neighbors'] = cleaned_df['sqft_living'] * cleaned_df['sqft_living15']\n",
    "#cleaned_df['sqft_house_neighbors_ratio'] = cleaned_df['sqft_living']/cleaned_df['sqft_living15']\n",
    "cleaned_df['sqft_living_age'] = cleaned_df['sqft_living'] * cleaned_df['house_age']\n",
    "cleaned_df['sqft_living_grade'] = cleaned_df['sqft_living'] * cleaned_df['grade']\n",
    "\n",
    "cleaned_df['sqft15_grade'] = cleaned_df['grade'] * cleaned_df['sqft_living15']\n",
    "\n",
    "cleaned_df['long_lat'] = cleaned_df['long'] * cleaned_df['lat']\n",
    "\n",
    "cleaned_df['sqft_lot_age'] = cleaned_df['sqft_lot'] * cleaned_df['house_age']\n",
    "\n",
    "#cleaned_df['bed_bath_ratio'] = cleaned_df['bedrooms']/cleaned_df['bathrooms']\n",
    "cleaned_df['bed_bath'] = cleaned_df['bedrooms'] * cleaned_df['bathrooms']"
   ]
  },
  {
   "cell_type": "code",
   "execution_count": 23,
   "metadata": {},
   "outputs": [
    {
     "data": {
      "text/plain": [
       "13.049546273822779"
      ]
     },
     "execution_count": 23,
     "metadata": {},
     "output_type": "execute_result"
    }
   ],
   "source": [
    "cleaned_df[\"price\"].mean()"
   ]
  },
  {
   "cell_type": "code",
   "execution_count": 24,
   "metadata": {},
   "outputs": [],
   "source": [
    "from datetime import datetime\n",
    "cleaned_df['month'] = cleaned_df['date'].map(lambda x: datetime.strptime(x, \"%m/%d/%Y\").month)"
   ]
  },
  {
   "cell_type": "code",
   "execution_count": 25,
   "metadata": {},
   "outputs": [],
   "source": [
    "seasons = [1, 1, 1, 2, 2, 2, 3, 3, 3, 4, 4, 4]\n",
    "\n",
    "month_to_season = dict(zip(range(1,13), seasons))\n",
    "\n",
    "def season(month):\n",
    "    \n",
    "    return month_to_season[month]"
   ]
  },
  {
   "cell_type": "code",
   "execution_count": 26,
   "metadata": {},
   "outputs": [],
   "source": [
    "# Engineering season feature\n",
    "\n",
    "cleaned_df['season'] = cleaned_df['month'].map(lambda x: int(season(x)))"
   ]
  },
  {
   "cell_type": "code",
   "execution_count": 27,
   "metadata": {},
   "outputs": [
    {
     "name": "stdout",
     "output_type": "stream",
     "text": [
      "       x0_2  x0_3  x0_4\n",
      "0       0.0   0.0   1.0\n",
      "1       0.0   0.0   1.0\n",
      "2       0.0   0.0   0.0\n",
      "3       1.0   0.0   0.0\n",
      "4       1.0   0.0   0.0\n",
      "...     ...   ...   ...\n",
      "15423   0.0   0.0   0.0\n",
      "15424   1.0   0.0   0.0\n",
      "15425   0.0   0.0   0.0\n",
      "15426   1.0   0.0   0.0\n",
      "15427   0.0   0.0   1.0\n",
      "\n",
      "[15428 rows x 3 columns]\n"
     ]
    },
    {
     "data": {
      "text/html": [
       "<div>\n",
       "<style scoped>\n",
       "    .dataframe tbody tr th:only-of-type {\n",
       "        vertical-align: middle;\n",
       "    }\n",
       "\n",
       "    .dataframe tbody tr th {\n",
       "        vertical-align: top;\n",
       "    }\n",
       "\n",
       "    .dataframe thead th {\n",
       "        text-align: right;\n",
       "    }\n",
       "</style>\n",
       "<table border=\"1\" class=\"dataframe\">\n",
       "  <thead>\n",
       "    <tr style=\"text-align: right;\">\n",
       "      <th></th>\n",
       "      <th>date</th>\n",
       "      <th>price</th>\n",
       "      <th>bedrooms</th>\n",
       "      <th>bathrooms</th>\n",
       "      <th>sqft_living</th>\n",
       "      <th>sqft_lot</th>\n",
       "      <th>floors</th>\n",
       "      <th>waterfront</th>\n",
       "      <th>view</th>\n",
       "      <th>condition</th>\n",
       "      <th>...</th>\n",
       "      <th>sqft_living_grade</th>\n",
       "      <th>sqft15_grade</th>\n",
       "      <th>long_lat</th>\n",
       "      <th>sqft_lot_age</th>\n",
       "      <th>bed_bath</th>\n",
       "      <th>month</th>\n",
       "      <th>season</th>\n",
       "      <th>x0_2</th>\n",
       "      <th>x0_3</th>\n",
       "      <th>x0_4</th>\n",
       "    </tr>\n",
       "  </thead>\n",
       "  <tbody>\n",
       "    <tr>\n",
       "      <th>1</th>\n",
       "      <td>12/9/2014</td>\n",
       "      <td>13.195614</td>\n",
       "      <td>1.098612</td>\n",
       "      <td>2.25</td>\n",
       "      <td>7.851661</td>\n",
       "      <td>8.887653</td>\n",
       "      <td>2.0</td>\n",
       "      <td>0.0</td>\n",
       "      <td>0.0</td>\n",
       "      <td>3</td>\n",
       "      <td>...</td>\n",
       "      <td>54.961628</td>\n",
       "      <td>52.027387</td>\n",
       "      <td>-5837.184999</td>\n",
       "      <td>37.759150</td>\n",
       "      <td>2.471878</td>\n",
       "      <td>12</td>\n",
       "      <td>4</td>\n",
       "      <td>0.0</td>\n",
       "      <td>0.0</td>\n",
       "      <td>1.0</td>\n",
       "    </tr>\n",
       "    <tr>\n",
       "      <th>3</th>\n",
       "      <td>12/9/2014</td>\n",
       "      <td>13.311329</td>\n",
       "      <td>1.386294</td>\n",
       "      <td>3.00</td>\n",
       "      <td>7.580700</td>\n",
       "      <td>8.517193</td>\n",
       "      <td>1.0</td>\n",
       "      <td>0.0</td>\n",
       "      <td>0.0</td>\n",
       "      <td>5</td>\n",
       "      <td>...</td>\n",
       "      <td>53.064898</td>\n",
       "      <td>50.506680</td>\n",
       "      <td>-5816.213274</td>\n",
       "      <td>34.284698</td>\n",
       "      <td>4.158883</td>\n",
       "      <td>12</td>\n",
       "      <td>4</td>\n",
       "      <td>1.0</td>\n",
       "      <td>0.0</td>\n",
       "      <td>0.0</td>\n",
       "    </tr>\n",
       "    <tr>\n",
       "      <th>4</th>\n",
       "      <td>2/18/2015</td>\n",
       "      <td>13.142166</td>\n",
       "      <td>1.098612</td>\n",
       "      <td>2.00</td>\n",
       "      <td>7.426549</td>\n",
       "      <td>8.997147</td>\n",
       "      <td>1.0</td>\n",
       "      <td>0.0</td>\n",
       "      <td>0.0</td>\n",
       "      <td>3</td>\n",
       "      <td>...</td>\n",
       "      <td>59.412393</td>\n",
       "      <td>59.964336</td>\n",
       "      <td>-5811.392356</td>\n",
       "      <td>31.727185</td>\n",
       "      <td>2.197225</td>\n",
       "      <td>2</td>\n",
       "      <td>1</td>\n",
       "      <td>1.0</td>\n",
       "      <td>0.0</td>\n",
       "      <td>0.0</td>\n",
       "    </tr>\n",
       "    <tr>\n",
       "      <th>5</th>\n",
       "      <td>5/12/2014</td>\n",
       "      <td>14.022525</td>\n",
       "      <td>1.386294</td>\n",
       "      <td>4.50</td>\n",
       "      <td>8.597851</td>\n",
       "      <td>11.532042</td>\n",
       "      <td>1.0</td>\n",
       "      <td>0.0</td>\n",
       "      <td>0.0</td>\n",
       "      <td>3</td>\n",
       "      <td>...</td>\n",
       "      <td>94.576362</td>\n",
       "      <td>93.148032</td>\n",
       "      <td>-5814.282481</td>\n",
       "      <td>34.546909</td>\n",
       "      <td>6.238325</td>\n",
       "      <td>5</td>\n",
       "      <td>2</td>\n",
       "      <td>0.0</td>\n",
       "      <td>0.0</td>\n",
       "      <td>0.0</td>\n",
       "    </tr>\n",
       "    <tr>\n",
       "      <th>8</th>\n",
       "      <td>4/15/2015</td>\n",
       "      <td>12.343658</td>\n",
       "      <td>1.098612</td>\n",
       "      <td>1.00</td>\n",
       "      <td>7.484369</td>\n",
       "      <td>8.918650</td>\n",
       "      <td>1.0</td>\n",
       "      <td>0.0</td>\n",
       "      <td>0.0</td>\n",
       "      <td>3</td>\n",
       "      <td>...</td>\n",
       "      <td>52.390581</td>\n",
       "      <td>52.390581</td>\n",
       "      <td>-5812.512245</td>\n",
       "      <td>36.663446</td>\n",
       "      <td>1.098612</td>\n",
       "      <td>4</td>\n",
       "      <td>2</td>\n",
       "      <td>0.0</td>\n",
       "      <td>0.0</td>\n",
       "      <td>0.0</td>\n",
       "    </tr>\n",
       "  </tbody>\n",
       "</table>\n",
       "<p>5 rows × 35 columns</p>\n",
       "</div>"
      ],
      "text/plain": [
       "        date      price  bedrooms  bathrooms  sqft_living   sqft_lot  floors  \\\n",
       "1  12/9/2014  13.195614  1.098612       2.25     7.851661   8.887653     2.0   \n",
       "3  12/9/2014  13.311329  1.386294       3.00     7.580700   8.517193     1.0   \n",
       "4  2/18/2015  13.142166  1.098612       2.00     7.426549   8.997147     1.0   \n",
       "5  5/12/2014  14.022525  1.386294       4.50     8.597851  11.532042     1.0   \n",
       "8  4/15/2015  12.343658  1.098612       1.00     7.484369   8.918650     1.0   \n",
       "\n",
       "   waterfront  view  condition  ...  sqft_living_grade  sqft15_grade  \\\n",
       "1         0.0   0.0          3  ...          54.961628     52.027387   \n",
       "3         0.0   0.0          5  ...          53.064898     50.506680   \n",
       "4         0.0   0.0          3  ...          59.412393     59.964336   \n",
       "5         0.0   0.0          3  ...          94.576362     93.148032   \n",
       "8         0.0   0.0          3  ...          52.390581     52.390581   \n",
       "\n",
       "      long_lat  sqft_lot_age  bed_bath  month  season  x0_2  x0_3  x0_4  \n",
       "1 -5837.184999     37.759150  2.471878     12       4   0.0   0.0   1.0  \n",
       "3 -5816.213274     34.284698  4.158883     12       4   1.0   0.0   0.0  \n",
       "4 -5811.392356     31.727185  2.197225      2       1   1.0   0.0   0.0  \n",
       "5 -5814.282481     34.546909  6.238325      5       2   0.0   0.0   0.0  \n",
       "8 -5812.512245     36.663446  1.098612      4       2   0.0   0.0   0.0  \n",
       "\n",
       "[5 rows x 35 columns]"
      ]
     },
     "execution_count": 27,
     "metadata": {},
     "output_type": "execute_result"
    }
   ],
   "source": [
    "# Creating dummies out of season feature\n",
    "from sklearn.preprocessing import OneHotEncoder\n",
    "\n",
    "# Create the OneHotEncoder object\n",
    "ohe = OneHotEncoder(drop='first')\n",
    "\n",
    "# Transform the data into dummies\n",
    "trans = ohe.fit_transform(cleaned_df[['season']])\n",
    "\n",
    "# Store the dummies matrix and name vector\n",
    "data = trans.todense()\n",
    "names = ohe.get_feature_names()\n",
    "\n",
    "# Concatenate the dummies df to the original dataset\n",
    "dummies = pd.DataFrame(data, columns=names)\n",
    "\n",
    "print(dummies)\n",
    "\n",
    "cleaned_df = cleaned_df.join(dummies)\n",
    "cleaned_df.head()"
   ]
  },
  {
   "cell_type": "code",
   "execution_count": 28,
   "metadata": {},
   "outputs": [],
   "source": [
    "cleaned_df.dropna(inplace=True)"
   ]
  },
  {
   "cell_type": "code",
   "execution_count": 29,
   "metadata": {},
   "outputs": [],
   "source": [
    "cleaned_df['x0_2'] = cleaned_df['x0_2'].map(lambda x:int(x))\n",
    "cleaned_df['x0_3'] = cleaned_df['x0_3'].map(lambda x:int(x))\n",
    "cleaned_df['x0_4'] = cleaned_df['x0_4'].map(lambda x:int(x))"
   ]
  },
  {
   "cell_type": "code",
   "execution_count": 30,
   "metadata": {},
   "outputs": [],
   "source": [
    "cleaned_df = cleaned_df.dropna(axis=0, how='any')"
   ]
  },
  {
   "cell_type": "code",
   "execution_count": 31,
   "metadata": {},
   "outputs": [
    {
     "data": {
      "text/plain": [
       "(11051, 35)"
      ]
     },
     "execution_count": 31,
     "metadata": {},
     "output_type": "execute_result"
    }
   ],
   "source": [
    "cleaned_df.shape"
   ]
  },
  {
   "cell_type": "code",
   "execution_count": 32,
   "metadata": {},
   "outputs": [
    {
     "data": {
      "text/html": [
       "<div>\n",
       "<style scoped>\n",
       "    .dataframe tbody tr th:only-of-type {\n",
       "        vertical-align: middle;\n",
       "    }\n",
       "\n",
       "    .dataframe tbody tr th {\n",
       "        vertical-align: top;\n",
       "    }\n",
       "\n",
       "    .dataframe thead th {\n",
       "        text-align: right;\n",
       "    }\n",
       "</style>\n",
       "<table border=\"1\" class=\"dataframe\">\n",
       "  <thead>\n",
       "    <tr style=\"text-align: right;\">\n",
       "      <th></th>\n",
       "      <th>date</th>\n",
       "      <th>price</th>\n",
       "      <th>bedrooms</th>\n",
       "      <th>bathrooms</th>\n",
       "      <th>sqft_living</th>\n",
       "      <th>sqft_lot</th>\n",
       "      <th>floors</th>\n",
       "      <th>waterfront</th>\n",
       "      <th>view</th>\n",
       "      <th>condition</th>\n",
       "      <th>...</th>\n",
       "      <th>sqft_living_grade</th>\n",
       "      <th>sqft15_grade</th>\n",
       "      <th>long_lat</th>\n",
       "      <th>sqft_lot_age</th>\n",
       "      <th>bed_bath</th>\n",
       "      <th>month</th>\n",
       "      <th>season</th>\n",
       "      <th>x0_2</th>\n",
       "      <th>x0_3</th>\n",
       "      <th>x0_4</th>\n",
       "    </tr>\n",
       "  </thead>\n",
       "  <tbody>\n",
       "    <tr>\n",
       "      <th>1</th>\n",
       "      <td>12/9/2014</td>\n",
       "      <td>13.196</td>\n",
       "      <td>1.099</td>\n",
       "      <td>2.25</td>\n",
       "      <td>7.852</td>\n",
       "      <td>8.888</td>\n",
       "      <td>2.0</td>\n",
       "      <td>0.0</td>\n",
       "      <td>0.0</td>\n",
       "      <td>3</td>\n",
       "      <td>...</td>\n",
       "      <td>54.962</td>\n",
       "      <td>52.027</td>\n",
       "      <td>-5837.185</td>\n",
       "      <td>37.759</td>\n",
       "      <td>2.472</td>\n",
       "      <td>12</td>\n",
       "      <td>4</td>\n",
       "      <td>0</td>\n",
       "      <td>0</td>\n",
       "      <td>1</td>\n",
       "    </tr>\n",
       "    <tr>\n",
       "      <th>3</th>\n",
       "      <td>12/9/2014</td>\n",
       "      <td>13.311</td>\n",
       "      <td>1.386</td>\n",
       "      <td>3.00</td>\n",
       "      <td>7.581</td>\n",
       "      <td>8.517</td>\n",
       "      <td>1.0</td>\n",
       "      <td>0.0</td>\n",
       "      <td>0.0</td>\n",
       "      <td>5</td>\n",
       "      <td>...</td>\n",
       "      <td>53.065</td>\n",
       "      <td>50.507</td>\n",
       "      <td>-5816.213</td>\n",
       "      <td>34.285</td>\n",
       "      <td>4.159</td>\n",
       "      <td>12</td>\n",
       "      <td>4</td>\n",
       "      <td>1</td>\n",
       "      <td>0</td>\n",
       "      <td>0</td>\n",
       "    </tr>\n",
       "    <tr>\n",
       "      <th>4</th>\n",
       "      <td>2/18/2015</td>\n",
       "      <td>13.142</td>\n",
       "      <td>1.099</td>\n",
       "      <td>2.00</td>\n",
       "      <td>7.427</td>\n",
       "      <td>8.997</td>\n",
       "      <td>1.0</td>\n",
       "      <td>0.0</td>\n",
       "      <td>0.0</td>\n",
       "      <td>3</td>\n",
       "      <td>...</td>\n",
       "      <td>59.412</td>\n",
       "      <td>59.964</td>\n",
       "      <td>-5811.392</td>\n",
       "      <td>31.727</td>\n",
       "      <td>2.197</td>\n",
       "      <td>2</td>\n",
       "      <td>1</td>\n",
       "      <td>1</td>\n",
       "      <td>0</td>\n",
       "      <td>0</td>\n",
       "    </tr>\n",
       "    <tr>\n",
       "      <th>5</th>\n",
       "      <td>5/12/2014</td>\n",
       "      <td>14.023</td>\n",
       "      <td>1.386</td>\n",
       "      <td>4.50</td>\n",
       "      <td>8.598</td>\n",
       "      <td>11.532</td>\n",
       "      <td>1.0</td>\n",
       "      <td>0.0</td>\n",
       "      <td>0.0</td>\n",
       "      <td>3</td>\n",
       "      <td>...</td>\n",
       "      <td>94.576</td>\n",
       "      <td>93.148</td>\n",
       "      <td>-5814.282</td>\n",
       "      <td>34.547</td>\n",
       "      <td>6.238</td>\n",
       "      <td>5</td>\n",
       "      <td>2</td>\n",
       "      <td>0</td>\n",
       "      <td>0</td>\n",
       "      <td>0</td>\n",
       "    </tr>\n",
       "    <tr>\n",
       "      <th>8</th>\n",
       "      <td>4/15/2015</td>\n",
       "      <td>12.344</td>\n",
       "      <td>1.099</td>\n",
       "      <td>1.00</td>\n",
       "      <td>7.484</td>\n",
       "      <td>8.919</td>\n",
       "      <td>1.0</td>\n",
       "      <td>0.0</td>\n",
       "      <td>0.0</td>\n",
       "      <td>3</td>\n",
       "      <td>...</td>\n",
       "      <td>52.391</td>\n",
       "      <td>52.391</td>\n",
       "      <td>-5812.512</td>\n",
       "      <td>36.663</td>\n",
       "      <td>1.099</td>\n",
       "      <td>4</td>\n",
       "      <td>2</td>\n",
       "      <td>0</td>\n",
       "      <td>0</td>\n",
       "      <td>0</td>\n",
       "    </tr>\n",
       "    <tr>\n",
       "      <th>...</th>\n",
       "      <td>...</td>\n",
       "      <td>...</td>\n",
       "      <td>...</td>\n",
       "      <td>...</td>\n",
       "      <td>...</td>\n",
       "      <td>...</td>\n",
       "      <td>...</td>\n",
       "      <td>...</td>\n",
       "      <td>...</td>\n",
       "      <td>...</td>\n",
       "      <td>...</td>\n",
       "      <td>...</td>\n",
       "      <td>...</td>\n",
       "      <td>...</td>\n",
       "      <td>...</td>\n",
       "      <td>...</td>\n",
       "      <td>...</td>\n",
       "      <td>...</td>\n",
       "      <td>...</td>\n",
       "      <td>...</td>\n",
       "      <td>...</td>\n",
       "    </tr>\n",
       "    <tr>\n",
       "      <th>15419</th>\n",
       "      <td>4/21/2015</td>\n",
       "      <td>13.210</td>\n",
       "      <td>1.386</td>\n",
       "      <td>3.00</td>\n",
       "      <td>7.490</td>\n",
       "      <td>8.189</td>\n",
       "      <td>1.5</td>\n",
       "      <td>0.0</td>\n",
       "      <td>0.0</td>\n",
       "      <td>3</td>\n",
       "      <td>...</td>\n",
       "      <td>59.920</td>\n",
       "      <td>59.830</td>\n",
       "      <td>-5823.530</td>\n",
       "      <td>39.203</td>\n",
       "      <td>4.159</td>\n",
       "      <td>4</td>\n",
       "      <td>2</td>\n",
       "      <td>0</td>\n",
       "      <td>0</td>\n",
       "      <td>1</td>\n",
       "    </tr>\n",
       "    <tr>\n",
       "      <th>15420</th>\n",
       "      <td>7/9/2014</td>\n",
       "      <td>12.612</td>\n",
       "      <td>1.386</td>\n",
       "      <td>1.75</td>\n",
       "      <td>7.507</td>\n",
       "      <td>8.520</td>\n",
       "      <td>1.0</td>\n",
       "      <td>0.0</td>\n",
       "      <td>0.0</td>\n",
       "      <td>4</td>\n",
       "      <td>...</td>\n",
       "      <td>45.040</td>\n",
       "      <td>43.998</td>\n",
       "      <td>-5816.684</td>\n",
       "      <td>38.800</td>\n",
       "      <td>2.426</td>\n",
       "      <td>7</td>\n",
       "      <td>3</td>\n",
       "      <td>1</td>\n",
       "      <td>0</td>\n",
       "      <td>0</td>\n",
       "    </tr>\n",
       "    <tr>\n",
       "      <th>15421</th>\n",
       "      <td>10/16/2014</td>\n",
       "      <td>13.122</td>\n",
       "      <td>0.693</td>\n",
       "      <td>1.50</td>\n",
       "      <td>7.473</td>\n",
       "      <td>9.393</td>\n",
       "      <td>1.0</td>\n",
       "      <td>0.0</td>\n",
       "      <td>0.0</td>\n",
       "      <td>4</td>\n",
       "      <td>...</td>\n",
       "      <td>52.311</td>\n",
       "      <td>53.873</td>\n",
       "      <td>-5815.905</td>\n",
       "      <td>37.975</td>\n",
       "      <td>1.040</td>\n",
       "      <td>10</td>\n",
       "      <td>4</td>\n",
       "      <td>0</td>\n",
       "      <td>0</td>\n",
       "      <td>0</td>\n",
       "    </tr>\n",
       "    <tr>\n",
       "      <th>15426</th>\n",
       "      <td>8/13/2014</td>\n",
       "      <td>12.628</td>\n",
       "      <td>1.386</td>\n",
       "      <td>2.50</td>\n",
       "      <td>7.828</td>\n",
       "      <td>9.393</td>\n",
       "      <td>1.0</td>\n",
       "      <td>0.0</td>\n",
       "      <td>0.0</td>\n",
       "      <td>3</td>\n",
       "      <td>...</td>\n",
       "      <td>62.624</td>\n",
       "      <td>61.606</td>\n",
       "      <td>-5789.816</td>\n",
       "      <td>35.544</td>\n",
       "      <td>3.466</td>\n",
       "      <td>8</td>\n",
       "      <td>3</td>\n",
       "      <td>1</td>\n",
       "      <td>0</td>\n",
       "      <td>0</td>\n",
       "    </tr>\n",
       "    <tr>\n",
       "      <th>15427</th>\n",
       "      <td>6/13/2014</td>\n",
       "      <td>13.541</td>\n",
       "      <td>1.386</td>\n",
       "      <td>2.50</td>\n",
       "      <td>7.792</td>\n",
       "      <td>9.238</td>\n",
       "      <td>1.0</td>\n",
       "      <td>0.0</td>\n",
       "      <td>4.0</td>\n",
       "      <td>3</td>\n",
       "      <td>...</td>\n",
       "      <td>62.332</td>\n",
       "      <td>62.719</td>\n",
       "      <td>-5810.522</td>\n",
       "      <td>38.276</td>\n",
       "      <td>3.466</td>\n",
       "      <td>6</td>\n",
       "      <td>2</td>\n",
       "      <td>0</td>\n",
       "      <td>0</td>\n",
       "      <td>1</td>\n",
       "    </tr>\n",
       "  </tbody>\n",
       "</table>\n",
       "<p>11051 rows × 35 columns</p>\n",
       "</div>"
      ],
      "text/plain": [
       "             date   price  bedrooms  bathrooms  sqft_living  sqft_lot  floors  \\\n",
       "1       12/9/2014  13.196     1.099       2.25        7.852     8.888     2.0   \n",
       "3       12/9/2014  13.311     1.386       3.00        7.581     8.517     1.0   \n",
       "4       2/18/2015  13.142     1.099       2.00        7.427     8.997     1.0   \n",
       "5       5/12/2014  14.023     1.386       4.50        8.598    11.532     1.0   \n",
       "8       4/15/2015  12.344     1.099       1.00        7.484     8.919     1.0   \n",
       "...           ...     ...       ...        ...          ...       ...     ...   \n",
       "15419   4/21/2015  13.210     1.386       3.00        7.490     8.189     1.5   \n",
       "15420    7/9/2014  12.612     1.386       1.75        7.507     8.520     1.0   \n",
       "15421  10/16/2014  13.122     0.693       1.50        7.473     9.393     1.0   \n",
       "15426   8/13/2014  12.628     1.386       2.50        7.828     9.393     1.0   \n",
       "15427   6/13/2014  13.541     1.386       2.50        7.792     9.238     1.0   \n",
       "\n",
       "       waterfront  view  condition  ...  sqft_living_grade  sqft15_grade  \\\n",
       "1             0.0   0.0          3  ...             54.962        52.027   \n",
       "3             0.0   0.0          5  ...             53.065        50.507   \n",
       "4             0.0   0.0          3  ...             59.412        59.964   \n",
       "5             0.0   0.0          3  ...             94.576        93.148   \n",
       "8             0.0   0.0          3  ...             52.391        52.391   \n",
       "...           ...   ...        ...  ...                ...           ...   \n",
       "15419         0.0   0.0          3  ...             59.920        59.830   \n",
       "15420         0.0   0.0          4  ...             45.040        43.998   \n",
       "15421         0.0   0.0          4  ...             52.311        53.873   \n",
       "15426         0.0   0.0          3  ...             62.624        61.606   \n",
       "15427         0.0   4.0          3  ...             62.332        62.719   \n",
       "\n",
       "       long_lat  sqft_lot_age  bed_bath  month  season  x0_2  x0_3  x0_4  \n",
       "1     -5837.185        37.759     2.472     12       4     0     0     1  \n",
       "3     -5816.213        34.285     4.159     12       4     1     0     0  \n",
       "4     -5811.392        31.727     2.197      2       1     1     0     0  \n",
       "5     -5814.282        34.547     6.238      5       2     0     0     0  \n",
       "8     -5812.512        36.663     1.099      4       2     0     0     0  \n",
       "...         ...           ...       ...    ...     ...   ...   ...   ...  \n",
       "15419 -5823.530        39.203     4.159      4       2     0     0     1  \n",
       "15420 -5816.684        38.800     2.426      7       3     1     0     0  \n",
       "15421 -5815.905        37.975     1.040     10       4     0     0     0  \n",
       "15426 -5789.816        35.544     3.466      8       3     1     0     0  \n",
       "15427 -5810.522        38.276     3.466      6       2     0     0     1  \n",
       "\n",
       "[11051 rows x 35 columns]"
      ]
     },
     "execution_count": 32,
     "metadata": {},
     "output_type": "execute_result"
    }
   ],
   "source": [
    "cleaned_df.round(3)"
   ]
  },
  {
   "cell_type": "code",
   "execution_count": 33,
   "metadata": {},
   "outputs": [],
   "source": [
    "cleaned_df = cleaned_df.replace([np.inf, -np.inf], np.nan)"
   ]
  },
  {
   "cell_type": "code",
   "execution_count": 34,
   "metadata": {},
   "outputs": [
    {
     "data": {
      "image/png": "[encoded data removed]",
      "text/plain": [
       "<Figure size 576x432 with 1 Axes>"
      ]
     },
     "metadata": {
      "needs_background": "light"
     },
     "output_type": "display_data"
    }
   ],
   "source": [
    "#playing around with grade to see its relationship with price\n",
    "\n",
    "import matplotlib.pyplot as plt\n",
    "fig, ax = plt.subplots(figsize=(8, 6))\n",
    "grade = cleaned_df[\"grade\"]\n",
    "price = cleaned_df[\"price\"]\n",
    "ax.bar(grade, price)\n",
    "plt.show()"
   ]
  },
  {
   "cell_type": "markdown",
   "metadata": {},
   "source": [
    "# Exploring our best model"
   ]
  },
  {
   "cell_type": "code",
   "execution_count": 35,
   "metadata": {},
   "outputs": [
    {
     "name": "stdout",
     "output_type": "stream",
     "text": [
      "[-0.07503936  0.04398776  0.05363945  0.85701023  0.03227477  0.01322176\n",
      "  0.06592272  0.51238653  0.07156412 -0.15689742  0.47466636 -0.05862268\n",
      "  0.90952286 -0.04083785  0.38356861  0.02470176  0.34205893 -0.03563022\n",
      " -0.08903262  0.03862025]\n",
      "-26.97708190110206\n"
     ]
    }
   ],
   "source": [
    "# Set X and y\n",
    "X_col14 = ['bedrooms', \n",
    "         'bathrooms', \n",
    "          'view',\n",
    "         'sqft_living', \n",
    "         'sqft_lot', \n",
    "         'sqft_basement',\n",
    "         'floors', \n",
    "         'waterfront', \n",
    "         'condition', \n",
    "         'grade', \n",
    "         'lat', \n",
    "         'long', \n",
    "         'sqft_living15', \n",
    "         'sqft_lot15', \n",
    "         'house_age',\n",
    "         'county_long',\n",
    "         'county_lat',\n",
    "         'sqft_living_age',\n",
    "         'sqft_house_neighbors', \n",
    "         'sqft_living_grade']\n",
    "\n",
    "#'sqft15_grade',\n",
    "#'long_lat',\n",
    "#'sqft_lot_age',\n",
    "#'bed_bath'\n",
    "\n",
    "\n",
    "#x0_2'                \n",
    "X14 = cleaned_df[X_col14]\n",
    "y14 = cleaned_df['price']\n",
    "\n",
    "#for col in df.columns:\n",
    " #   X_col.append(col)\n",
    "\n",
    "# Perform split\n",
    "X_train14, X_test14, y_train14, y_test14 = train_test_split(X14, y14, test_size=0.25, random_state=8)\n",
    "\n",
    "#print(X_train)\n",
    "# Scale training and testing data\n",
    "#scaler = StandardScaler()\n",
    "\n",
    "#X_train_scale14 = scaler.fit_transform(X_train14)\n",
    "#X_test_scale14 = scaler.fit_transform(X_test14)\n",
    "\n",
    "# Create Model\n",
    "\n",
    "# Create the model object\n",
    "reg = LinearRegression()\n",
    "\n",
    "# Fit the model to the dataset\n",
    "result = reg.fit(X_train14, y_train14)\n",
    "\n",
    "# Retrieve estimated slope coefficient\n",
    "print(result.coef_)\n",
    "\n",
    "# Retrieve estimated y-intercept coefficient\n",
    "print(result.intercept_)"
   ]
  },
  {
   "cell_type": "code",
   "execution_count": 36,
   "metadata": {},
   "outputs": [
    {
     "name": "stdout",
     "output_type": "stream",
     "text": [
      "[13.51906033 12.6552305  12.18397304 ... 13.6719538  13.0331211\n",
      " 13.24620992]\n",
      "[12.33220984 13.95353171 12.89871592 ... 12.72407799 13.37802649\n",
      " 13.07340995]\n"
     ]
    }
   ],
   "source": [
    "# Make predictions\n",
    "y_hat_train14 = result.predict(X_train14)\n",
    "y_hat_test14 = result.predict(X_test14)\n",
    "\n",
    "print(y_hat_train14)\n",
    "\n",
    "print(y_hat_test14)"
   ]
  },
  {
   "cell_type": "code",
   "execution_count": 37,
   "metadata": {},
   "outputs": [
    {
     "name": "stdout",
     "output_type": "stream",
     "text": [
      "0.7856883544082236\n",
      "0.786481867125228\n",
      "171338.68634305472\n",
      "201839.62788040837\n"
     ]
    }
   ],
   "source": [
    "from sklearn.metrics import mean_squared_error\n",
    "from sklearn.metrics import r2_score\n",
    "\n",
    "y_train_r2_14 = r2_score(y_train14, y_hat_train14)\n",
    "print(y_train_r2_14)\n",
    "y_test_r2_14 = r2_score(y_test14, y_hat_test14)\n",
    "print(y_test_r2_14)\n",
    "\n",
    "y_train_rmse14 = mean_squared_error(np.exp(y_train14), np.exp(y_hat_train14), squared = False)\n",
    "print(y_train_rmse14)\n",
    "y_test_rmse14 = mean_squared_error(np.exp(y_test14), np.exp(y_hat_test14), squared = False)\n",
    "print(y_test_rmse14)"
   ]
  },
  {
   "cell_type": "code",
   "execution_count": 38,
   "metadata": {},
   "outputs": [
    {
     "data": {
      "text/html": [
       "<table class=\"simpletable\">\n",
       "<caption>OLS Regression Results</caption>\n",
       "<tr>\n",
       "  <th>Dep. Variable:</th>          <td>price</td>      <th>  R-squared:         </th> <td>   0.786</td>\n",
       "</tr>\n",
       "<tr>\n",
       "  <th>Model:</th>                   <td>OLS</td>       <th>  Adj. R-squared:    </th> <td>   0.785</td>\n",
       "</tr>\n",
       "<tr>\n",
       "  <th>Method:</th>             <td>Least Squares</td>  <th>  F-statistic:       </th> <td>   1515.</td>\n",
       "</tr>\n",
       "<tr>\n",
       "  <th>Date:</th>             <td>Fri, 27 Aug 2021</td> <th>  Prob (F-statistic):</th>  <td>  0.00</td> \n",
       "</tr>\n",
       "<tr>\n",
       "  <th>Time:</th>                 <td>00:58:18</td>     <th>  Log-Likelihood:    </th> <td> -26.183</td>\n",
       "</tr>\n",
       "<tr>\n",
       "  <th>No. Observations:</th>      <td>  8288</td>      <th>  AIC:               </th> <td>   94.37</td>\n",
       "</tr>\n",
       "<tr>\n",
       "  <th>Df Residuals:</th>          <td>  8267</td>      <th>  BIC:               </th> <td>   241.8</td>\n",
       "</tr>\n",
       "<tr>\n",
       "  <th>Df Model:</th>              <td>    20</td>      <th>                     </th>     <td> </td>   \n",
       "</tr>\n",
       "<tr>\n",
       "  <th>Covariance Type:</th>      <td>nonrobust</td>    <th>                     </th>     <td> </td>   \n",
       "</tr>\n",
       "</table>\n",
       "<table class=\"simpletable\">\n",
       "<tr>\n",
       "            <td></td>              <th>coef</th>     <th>std err</th>      <th>t</th>      <th>P>|t|</th>  <th>[0.025</th>    <th>0.975]</th>  \n",
       "</tr>\n",
       "<tr>\n",
       "  <th>const</th>                <td>  -26.9771</td> <td>    4.023</td> <td>   -6.705</td> <td> 0.000</td> <td>  -34.864</td> <td>  -19.090</td>\n",
       "</tr>\n",
       "<tr>\n",
       "  <th>bedrooms</th>             <td>   -0.0750</td> <td>    0.013</td> <td>   -5.801</td> <td> 0.000</td> <td>   -0.100</td> <td>   -0.050</td>\n",
       "</tr>\n",
       "<tr>\n",
       "  <th>bathrooms</th>            <td>    0.0440</td> <td>    0.006</td> <td>    6.785</td> <td> 0.000</td> <td>    0.031</td> <td>    0.057</td>\n",
       "</tr>\n",
       "<tr>\n",
       "  <th>view</th>                 <td>    0.0536</td> <td>    0.004</td> <td>   13.189</td> <td> 0.000</td> <td>    0.046</td> <td>    0.062</td>\n",
       "</tr>\n",
       "<tr>\n",
       "  <th>sqft_living</th>          <td>    0.8570</td> <td>    0.178</td> <td>    4.802</td> <td> 0.000</td> <td>    0.507</td> <td>    1.207</td>\n",
       "</tr>\n",
       "<tr>\n",
       "  <th>sqft_lot</th>             <td>    0.0323</td> <td>    0.008</td> <td>    4.124</td> <td> 0.000</td> <td>    0.017</td> <td>    0.048</td>\n",
       "</tr>\n",
       "<tr>\n",
       "  <th>sqft_basement</th>        <td>    0.0132</td> <td>    0.007</td> <td>    1.840</td> <td> 0.066</td> <td>   -0.001</td> <td>    0.027</td>\n",
       "</tr>\n",
       "<tr>\n",
       "  <th>floors</th>               <td>    0.0659</td> <td>    0.008</td> <td>    8.506</td> <td> 0.000</td> <td>    0.051</td> <td>    0.081</td>\n",
       "</tr>\n",
       "<tr>\n",
       "  <th>waterfront</th>           <td>    0.5124</td> <td>    0.034</td> <td>   15.100</td> <td> 0.000</td> <td>    0.446</td> <td>    0.579</td>\n",
       "</tr>\n",
       "<tr>\n",
       "  <th>condition</th>            <td>    0.0716</td> <td>    0.004</td> <td>   16.472</td> <td> 0.000</td> <td>    0.063</td> <td>    0.080</td>\n",
       "</tr>\n",
       "<tr>\n",
       "  <th>grade</th>                <td>   -0.1569</td> <td>    0.053</td> <td>   -2.960</td> <td> 0.003</td> <td>   -0.261</td> <td>   -0.053</td>\n",
       "</tr>\n",
       "<tr>\n",
       "  <th>lat</th>                  <td>    0.4747</td> <td>    0.035</td> <td>   13.374</td> <td> 0.000</td> <td>    0.405</td> <td>    0.544</td>\n",
       "</tr>\n",
       "<tr>\n",
       "  <th>long</th>                 <td>   -0.0586</td> <td>    0.029</td> <td>   -2.020</td> <td> 0.043</td> <td>   -0.116</td> <td>   -0.002</td>\n",
       "</tr>\n",
       "<tr>\n",
       "  <th>sqft_living15</th>        <td>    0.9095</td> <td>    0.193</td> <td>    4.709</td> <td> 0.000</td> <td>    0.531</td> <td>    1.288</td>\n",
       "</tr>\n",
       "<tr>\n",
       "  <th>sqft_lot15</th>           <td>   -0.0408</td> <td>    0.009</td> <td>   -4.710</td> <td> 0.000</td> <td>   -0.058</td> <td>   -0.024</td>\n",
       "</tr>\n",
       "<tr>\n",
       "  <th>house_age</th>            <td>    0.3836</td> <td>    0.098</td> <td>    3.905</td> <td> 0.000</td> <td>    0.191</td> <td>    0.576</td>\n",
       "</tr>\n",
       "<tr>\n",
       "  <th>county_long</th>          <td>    0.0247</td> <td>    0.014</td> <td>    1.786</td> <td> 0.074</td> <td>   -0.002</td> <td>    0.052</td>\n",
       "</tr>\n",
       "<tr>\n",
       "  <th>county_lat</th>           <td>    0.3421</td> <td>    0.011</td> <td>   30.361</td> <td> 0.000</td> <td>    0.320</td> <td>    0.364</td>\n",
       "</tr>\n",
       "<tr>\n",
       "  <th>sqft_living_age</th>      <td>   -0.0356</td> <td>    0.013</td> <td>   -2.776</td> <td> 0.006</td> <td>   -0.061</td> <td>   -0.010</td>\n",
       "</tr>\n",
       "<tr>\n",
       "  <th>sqft_house_neighbors</th> <td>   -0.0890</td> <td>    0.026</td> <td>   -3.473</td> <td> 0.001</td> <td>   -0.139</td> <td>   -0.039</td>\n",
       "</tr>\n",
       "<tr>\n",
       "  <th>sqft_living_grade</th>    <td>    0.0386</td> <td>    0.007</td> <td>    5.620</td> <td> 0.000</td> <td>    0.025</td> <td>    0.052</td>\n",
       "</tr>\n",
       "</table>\n",
       "<table class=\"simpletable\">\n",
       "<tr>\n",
       "  <th>Omnibus:</th>       <td>171.341</td> <th>  Durbin-Watson:     </th> <td>   1.989</td>\n",
       "</tr>\n",
       "<tr>\n",
       "  <th>Prob(Omnibus):</th> <td> 0.000</td>  <th>  Jarque-Bera (JB):  </th> <td> 342.765</td>\n",
       "</tr>\n",
       "<tr>\n",
       "  <th>Skew:</th>          <td> 0.107</td>  <th>  Prob(JB):          </th> <td>3.71e-75</td>\n",
       "</tr>\n",
       "<tr>\n",
       "  <th>Kurtosis:</th>      <td> 3.973</td>  <th>  Cond. No.          </th> <td>2.38e+05</td>\n",
       "</tr>\n",
       "</table><br/><br/>Notes:<br/>[1] Standard Errors assume that the covariance matrix of the errors is correctly specified.<br/>[2] The condition number is large, 2.38e+05. This might indicate that there are<br/>strong multicollinearity or other numerical problems."
      ],
      "text/plain": [
       "<class 'statsmodels.iolib.summary.Summary'>\n",
       "\"\"\"\n",
       "                            OLS Regression Results                            \n",
       "==============================================================================\n",
       "Dep. Variable:                  price   R-squared:                       0.786\n",
       "Model:                            OLS   Adj. R-squared:                  0.785\n",
       "Method:                 Least Squares   F-statistic:                     1515.\n",
       "Date:                Fri, 27 Aug 2021   Prob (F-statistic):               0.00\n",
       "Time:                        00:58:18   Log-Likelihood:                -26.183\n",
       "No. Observations:                8288   AIC:                             94.37\n",
       "Df Residuals:                    8267   BIC:                             241.8\n",
       "Df Model:                          20                                         \n",
       "Covariance Type:            nonrobust                                         \n",
       "========================================================================================\n",
       "                           coef    std err          t      P>|t|      [0.025      0.975]\n",
       "----------------------------------------------------------------------------------------\n",
       "const                  -26.9771      4.023     -6.705      0.000     -34.864     -19.090\n",
       "bedrooms                -0.0750      0.013     -5.801      0.000      -0.100      -0.050\n",
       "bathrooms                0.0440      0.006      6.785      0.000       0.031       0.057\n",
       "view                     0.0536      0.004     13.189      0.000       0.046       0.062\n",
       "sqft_living              0.8570      0.178      4.802      0.000       0.507       1.207\n",
       "sqft_lot                 0.0323      0.008      4.124      0.000       0.017       0.048\n",
       "sqft_basement            0.0132      0.007      1.840      0.066      -0.001       0.027\n",
       "floors                   0.0659      0.008      8.506      0.000       0.051       0.081\n",
       "waterfront               0.5124      0.034     15.100      0.000       0.446       0.579\n",
       "condition                0.0716      0.004     16.472      0.000       0.063       0.080\n",
       "grade                   -0.1569      0.053     -2.960      0.003      -0.261      -0.053\n",
       "lat                      0.4747      0.035     13.374      0.000       0.405       0.544\n",
       "long                    -0.0586      0.029     -2.020      0.043      -0.116      -0.002\n",
       "sqft_living15            0.9095      0.193      4.709      0.000       0.531       1.288\n",
       "sqft_lot15              -0.0408      0.009     -4.710      0.000      -0.058      -0.024\n",
       "house_age                0.3836      0.098      3.905      0.000       0.191       0.576\n",
       "county_long              0.0247      0.014      1.786      0.074      -0.002       0.052\n",
       "county_lat               0.3421      0.011     30.361      0.000       0.320       0.364\n",
       "sqft_living_age         -0.0356      0.013     -2.776      0.006      -0.061      -0.010\n",
       "sqft_house_neighbors    -0.0890      0.026     -3.473      0.001      -0.139      -0.039\n",
       "sqft_living_grade        0.0386      0.007      5.620      0.000       0.025       0.052\n",
       "==============================================================================\n",
       "Omnibus:                      171.341   Durbin-Watson:                   1.989\n",
       "Prob(Omnibus):                  0.000   Jarque-Bera (JB):              342.765\n",
       "Skew:                           0.107   Prob(JB):                     3.71e-75\n",
       "Kurtosis:                       3.973   Cond. No.                     2.38e+05\n",
       "==============================================================================\n",
       "\n",
       "Notes:\n",
       "[1] Standard Errors assume that the covariance matrix of the errors is correctly specified.\n",
       "[2] The condition number is large, 2.38e+05. This might indicate that there are\n",
       "strong multicollinearity or other numerical problems.\n",
       "\"\"\""
      ]
     },
     "execution_count": 38,
     "metadata": {},
     "output_type": "execute_result"
    }
   ],
   "source": [
    "# Using the sm.OLS() method, we need to manually add constant to the model\n",
    "X_train14 = sm.add_constant(X_train14)\n",
    "\n",
    "# Create the model object\n",
    "model = sm.OLS(y_train14, X_train14)\n",
    "\n",
    "# Fit the model to the dataset\n",
    "result = model.fit()\n",
    "\n",
    "# Print the summary output\n",
    "result.summary()"
   ]
  },
  {
   "cell_type": "code",
   "execution_count": 39,
   "metadata": {},
   "outputs": [
    {
     "name": "stderr",
     "output_type": "stream",
     "text": [
      "/opt/anaconda3/lib/python3.8/site-packages/seaborn/_decorators.py:36: FutureWarning: Pass the following variables as keyword args: x, y. From version 0.12, the only valid positional argument will be `data`, and passing other arguments without an explicit keyword will result in an error or misinterpretation.\n",
      "  warnings.warn(\n"
     ]
    },
    {
     "data": {
      "image/png": "[encoded data removed]",
      "text/plain": [
       "<Figure size 432x432 with 3 Axes>"
      ]
     },
     "metadata": {
      "needs_background": "light"
     },
     "output_type": "display_data"
    }
   ],
   "source": [
    "sns.jointplot('sqft_living','price', data=cleaned_df, kind='reg');"
   ]
  },
  {
   "cell_type": "code",
   "execution_count": 40,
   "metadata": {},
   "outputs": [
    {
     "name": "stderr",
     "output_type": "stream",
     "text": [
      "/opt/anaconda3/lib/python3.8/site-packages/seaborn/_decorators.py:36: FutureWarning: Pass the following variables as keyword args: x, y. From version 0.12, the only valid positional argument will be `data`, and passing other arguments without an explicit keyword will result in an error or misinterpretation.\n",
      "  warnings.warn(\n"
     ]
    },
    {
     "data": {
      "image/png": "[encoded data removed]",
      "text/plain": [
       "<Figure size 432x432 with 3 Axes>"
      ]
     },
     "metadata": {
      "needs_background": "light"
     },
     "output_type": "display_data"
    }
   ],
   "source": [
    "sns.jointplot('grade','price', data=cleaned_df, kind='reg');"
   ]
  },
  {
   "cell_type": "code",
   "execution_count": 41,
   "metadata": {},
   "outputs": [
    {
     "data": {
      "text/plain": [
       "0.0    10970\n",
       "1.0       81\n",
       "Name: waterfront, dtype: int64"
      ]
     },
     "execution_count": 41,
     "metadata": {},
     "output_type": "execute_result"
    }
   ],
   "source": [
    "cleaned_df[\"waterfront\"].value_counts()"
   ]
  },
  {
   "cell_type": "code",
   "execution_count": 42,
   "metadata": {},
   "outputs": [
    {
     "data": {
      "text/plain": [
       "Text(0.5, 1.0, 'x')"
      ]
     },
     "execution_count": 42,
     "metadata": {},
     "output_type": "execute_result"
    },
    {
     "data": {
      "image/png": "[encoded data removed]",
      "text/plain": [
       "<Figure size 576x360 with 1 Axes>"
      ]
     },
     "metadata": {
      "needs_background": "light"
     },
     "output_type": "display_data"
    }
   ],
   "source": [
    "fig, ax = plt.subplots(figsize=(8,5))\n",
    "ax = sns.barplot(data=cleaned_df, x='waterfront', y='price')\n",
    "ax.set_title(\"x\")\n",
    "#fig.savefig('images/histogram_posROI');"
   ]
  },
  {
   "cell_type": "code",
   "execution_count": 43,
   "metadata": {},
   "outputs": [
    {
     "name": "stderr",
     "output_type": "stream",
     "text": [
      "/opt/anaconda3/lib/python3.8/site-packages/seaborn/_decorators.py:36: FutureWarning: Pass the following variables as keyword args: x, y. From version 0.12, the only valid positional argument will be `data`, and passing other arguments without an explicit keyword will result in an error or misinterpretation.\n",
      "  warnings.warn(\n"
     ]
    },
    {
     "data": {
      "image/png": "[encoded data removed]",
      "text/plain": [
       "<Figure size 432x432 with 3 Axes>"
      ]
     },
     "metadata": {
      "needs_background": "light"
     },
     "output_type": "display_data"
    }
   ],
   "source": [
    "sns.jointplot('house_age','price', data=cleaned_df, kind='reg');"
   ]
  },
  {
   "cell_type": "markdown",
   "metadata": {},
   "source": [
    "## establish baseline OLS model "
   ]
  },
  {
   "cell_type": "code",
   "execution_count": 44,
   "metadata": {},
   "outputs": [
    {
     "name": "stdout",
     "output_type": "stream",
     "text": [
      "[-0.04640679  0.04142557  0.08326387 -0.0109758   0.04512697  0.03185906\n",
      "  0.03225784  0.22505435  0.0647896   0.05285717  0.09664537 -0.04928107\n",
      "  0.14950927  0.0373044 ]\n",
      "13.03433960681476\n",
      "[12.93146109 12.7349898  12.94462578 ... 12.97054869 13.65466408\n",
      " 13.00357498]\n",
      "[13.53793419 12.88223834 12.70918758 ... 12.58658966 13.82835243\n",
      " 12.91710131]\n"
     ]
    },
    {
     "data": {
      "text/plain": [
       "LinearRegression()"
      ]
     },
     "execution_count": 44,
     "metadata": {},
     "output_type": "execute_result"
    }
   ],
   "source": [
    "# Set X and y\n",
    "X_col = ['bedrooms', \n",
    "         'bathrooms', \n",
    "         'sqft_living', \n",
    "         'sqft_lot', \n",
    "         'floors', \n",
    "         'waterfront', \n",
    "         'condition', \n",
    "         'grade', \n",
    "         'sqft_above',\n",
    "         \"sqft_basement\", \n",
    "         'sqft_living15', \n",
    "         'sqft_lot15', \n",
    "         'house_age',\n",
    "         'view']\n",
    "\n",
    "X = cleaned_df[X_col]\n",
    "y = cleaned_df['price']\n",
    "\n",
    "\n",
    "X_train, X_test, y_train, y_test = train_test_split(X, y,test_size=0.25,random_state=10)\n",
    "\n",
    "\n",
    "# Scale training and testing data\n",
    "scaler = StandardScaler()\n",
    "\n",
    "X_train_scale = scaler.fit_transform(X_train)\n",
    "X_test_scale = scaler.fit_transform(X_test)\n",
    "\n",
    "# Create Model\n",
    "\n",
    "# Create the model object\n",
    "reg = LinearRegression()\n",
    "\n",
    "# Fit the model to the dataset\n",
    "result = reg.fit(X_train_scale, y_train)\n",
    "\n",
    "# Retrieve estimated slope coefficient\n",
    "print(result.coef_)\n",
    "\n",
    "# Retrieve estimated y-intercept coefficient\n",
    "print(result.intercept_)\n",
    "\n",
    "# Make predictions\n",
    "y_hat_train = result.predict(X_train_scale)\n",
    "y_hat_test = result.predict(X_test_scale)\n",
    "\n",
    "print(y_hat_train)\n",
    "\n",
    "print(y_hat_test)\n",
    "\n",
    "lr = LinearRegression()\n",
    "lr.fit(X_train_scale, y_train)"
   ]
  },
  {
   "cell_type": "code",
   "execution_count": 45,
   "metadata": {},
   "outputs": [
    {
     "name": "stdout",
     "output_type": "stream",
     "text": [
      "0.6421922951376425\n",
      "0.649143124488045\n",
      "202664.0885993764\n",
      "208589.2269039467\n"
     ]
    }
   ],
   "source": [
    "from sklearn.metrics import mean_squared_error\n",
    "from sklearn.metrics import r2_score\n",
    "\n",
    "y_train_r2 = r2_score(y_train, y_hat_train)\n",
    "print(y_train_r2)\n",
    "y_test_r2 = r2_score(y_test, y_hat_test)\n",
    "print(y_test_r2)\n",
    "\n",
    "y_train_rmse = mean_squared_error(np.exp(y_train), np.exp(y_hat_train), squared = False)\n",
    "print(y_train_rmse)\n",
    "y_test_rmse = mean_squared_error(np.exp(y_test), np.exp(y_hat_test), squared = False)\n",
    "print(y_test_rmse)"
   ]
  },
  {
   "cell_type": "code",
   "execution_count": 46,
   "metadata": {},
   "outputs": [
    {
     "data": {
      "text/html": [
       "<table class=\"simpletable\">\n",
       "<caption>OLS Regression Results</caption>\n",
       "<tr>\n",
       "  <th>Dep. Variable:</th>            <td>Y</td>        <th>  R-squared:         </th> <td>   0.642</td>\n",
       "</tr>\n",
       "<tr>\n",
       "  <th>Model:</th>                   <td>OLS</td>       <th>  Adj. R-squared:    </th> <td>   0.642</td>\n",
       "</tr>\n",
       "<tr>\n",
       "  <th>Method:</th>             <td>Least Squares</td>  <th>  F-statistic:       </th> <td>   1061.</td>\n",
       "</tr>\n",
       "<tr>\n",
       "  <th>Date:</th>             <td>Fri, 27 Aug 2021</td> <th>  Prob (F-statistic):</th>  <td>  0.00</td> \n",
       "</tr>\n",
       "<tr>\n",
       "  <th>Time:</th>                 <td>00:58:25</td>     <th>  Log-Likelihood:    </th> <td> -2188.9</td>\n",
       "</tr>\n",
       "<tr>\n",
       "  <th>No. Observations:</th>      <td>  8288</td>      <th>  AIC:               </th> <td>   4408.</td>\n",
       "</tr>\n",
       "<tr>\n",
       "  <th>Df Residuals:</th>          <td>  8273</td>      <th>  BIC:               </th> <td>   4513.</td>\n",
       "</tr>\n",
       "<tr>\n",
       "  <th>Df Model:</th>              <td>    14</td>      <th>                     </th>     <td> </td>   \n",
       "</tr>\n",
       "<tr>\n",
       "  <th>Covariance Type:</th>      <td>nonrobust</td>    <th>                     </th>     <td> </td>   \n",
       "</tr>\n",
       "</table>\n",
       "<table class=\"simpletable\">\n",
       "<tr>\n",
       "        <td></td>           <th>coef</th>     <th>std err</th>      <th>t</th>      <th>P>|t|</th>  <th>[0.025</th>    <th>0.975]</th>  \n",
       "</tr>\n",
       "<tr>\n",
       "  <th>Intercept</th>     <td>    6.1286</td> <td>    0.128</td> <td>   47.869</td> <td> 0.000</td> <td>    5.878</td> <td>    6.380</td>\n",
       "</tr>\n",
       "<tr>\n",
       "  <th>view</th>          <td>    0.0484</td> <td>    0.005</td> <td>    9.238</td> <td> 0.000</td> <td>    0.038</td> <td>    0.059</td>\n",
       "</tr>\n",
       "<tr>\n",
       "  <th>bedrooms</th>      <td>   -0.1642</td> <td>    0.017</td> <td>   -9.894</td> <td> 0.000</td> <td>   -0.197</td> <td>   -0.132</td>\n",
       "</tr>\n",
       "<tr>\n",
       "  <th>bathrooms</th>     <td>    0.0546</td> <td>    0.008</td> <td>    6.679</td> <td> 0.000</td> <td>    0.039</td> <td>    0.071</td>\n",
       "</tr>\n",
       "<tr>\n",
       "  <th>sqft_living</th>   <td>    0.1988</td> <td>    0.036</td> <td>    5.499</td> <td> 0.000</td> <td>    0.128</td> <td>    0.270</td>\n",
       "</tr>\n",
       "<tr>\n",
       "  <th>floors</th>        <td>    0.0889</td> <td>    0.010</td> <td>    8.502</td> <td> 0.000</td> <td>    0.068</td> <td>    0.109</td>\n",
       "</tr>\n",
       "<tr>\n",
       "  <th>waterfront</th>    <td>    0.3790</td> <td>    0.045</td> <td>    8.435</td> <td> 0.000</td> <td>    0.291</td> <td>    0.467</td>\n",
       "</tr>\n",
       "<tr>\n",
       "  <th>condition</th>     <td>    0.0478</td> <td>    0.006</td> <td>    8.588</td> <td> 0.000</td> <td>    0.037</td> <td>    0.059</td>\n",
       "</tr>\n",
       "<tr>\n",
       "  <th>sqft_basement</th> <td>    0.1079</td> <td>    0.015</td> <td>    7.003</td> <td> 0.000</td> <td>    0.078</td> <td>    0.138</td>\n",
       "</tr>\n",
       "<tr>\n",
       "  <th>grade</th>         <td>    0.1941</td> <td>    0.005</td> <td>   36.856</td> <td> 0.000</td> <td>    0.184</td> <td>    0.204</td>\n",
       "</tr>\n",
       "<tr>\n",
       "  <th>sqft_above</th>    <td>    0.1552</td> <td>    0.036</td> <td>    4.345</td> <td> 0.000</td> <td>    0.085</td> <td>    0.225</td>\n",
       "</tr>\n",
       "<tr>\n",
       "  <th>sqft_living15</th> <td>    0.2999</td> <td>    0.018</td> <td>   16.567</td> <td> 0.000</td> <td>    0.264</td> <td>    0.335</td>\n",
       "</tr>\n",
       "<tr>\n",
       "  <th>sqft_lot</th>      <td>   -0.0127</td> <td>    0.010</td> <td>   -1.256</td> <td> 0.209</td> <td>   -0.033</td> <td>    0.007</td>\n",
       "</tr>\n",
       "<tr>\n",
       "  <th>sqft_lot15</th>    <td>   -0.0635</td> <td>    0.011</td> <td>   -5.717</td> <td> 0.000</td> <td>   -0.085</td> <td>   -0.042</td>\n",
       "</tr>\n",
       "<tr>\n",
       "  <th>house_age</th>     <td>    0.2478</td> <td>    0.008</td> <td>   31.228</td> <td> 0.000</td> <td>    0.232</td> <td>    0.263</td>\n",
       "</tr>\n",
       "</table>\n",
       "<table class=\"simpletable\">\n",
       "<tr>\n",
       "  <th>Omnibus:</th>       <td> 9.772</td> <th>  Durbin-Watson:     </th> <td>   1.995</td>\n",
       "</tr>\n",
       "<tr>\n",
       "  <th>Prob(Omnibus):</th> <td> 0.008</td> <th>  Jarque-Bera (JB):  </th> <td>  11.100</td>\n",
       "</tr>\n",
       "<tr>\n",
       "  <th>Skew:</th>          <td>-0.021</td> <th>  Prob(JB):          </th> <td> 0.00389</td>\n",
       "</tr>\n",
       "<tr>\n",
       "  <th>Kurtosis:</th>      <td> 3.174</td> <th>  Cond. No.          </th> <td>    767.</td>\n",
       "</tr>\n",
       "</table><br/><br/>Notes:<br/>[1] Standard Errors assume that the covariance matrix of the errors is correctly specified."
      ],
      "text/plain": [
       "<class 'statsmodels.iolib.summary.Summary'>\n",
       "\"\"\"\n",
       "                            OLS Regression Results                            \n",
       "==============================================================================\n",
       "Dep. Variable:                      Y   R-squared:                       0.642\n",
       "Model:                            OLS   Adj. R-squared:                  0.642\n",
       "Method:                 Least Squares   F-statistic:                     1061.\n",
       "Date:                Fri, 27 Aug 2021   Prob (F-statistic):               0.00\n",
       "Time:                        00:58:25   Log-Likelihood:                -2188.9\n",
       "No. Observations:                8288   AIC:                             4408.\n",
       "Df Residuals:                    8273   BIC:                             4513.\n",
       "Df Model:                          14                                         \n",
       "Covariance Type:            nonrobust                                         \n",
       "=================================================================================\n",
       "                    coef    std err          t      P>|t|      [0.025      0.975]\n",
       "---------------------------------------------------------------------------------\n",
       "Intercept         6.1286      0.128     47.869      0.000       5.878       6.380\n",
       "view              0.0484      0.005      9.238      0.000       0.038       0.059\n",
       "bedrooms         -0.1642      0.017     -9.894      0.000      -0.197      -0.132\n",
       "bathrooms         0.0546      0.008      6.679      0.000       0.039       0.071\n",
       "sqft_living       0.1988      0.036      5.499      0.000       0.128       0.270\n",
       "floors            0.0889      0.010      8.502      0.000       0.068       0.109\n",
       "waterfront        0.3790      0.045      8.435      0.000       0.291       0.467\n",
       "condition         0.0478      0.006      8.588      0.000       0.037       0.059\n",
       "sqft_basement     0.1079      0.015      7.003      0.000       0.078       0.138\n",
       "grade             0.1941      0.005     36.856      0.000       0.184       0.204\n",
       "sqft_above        0.1552      0.036      4.345      0.000       0.085       0.225\n",
       "sqft_living15     0.2999      0.018     16.567      0.000       0.264       0.335\n",
       "sqft_lot         -0.0127      0.010     -1.256      0.209      -0.033       0.007\n",
       "sqft_lot15       -0.0635      0.011     -5.717      0.000      -0.085      -0.042\n",
       "house_age         0.2478      0.008     31.228      0.000       0.232       0.263\n",
       "==============================================================================\n",
       "Omnibus:                        9.772   Durbin-Watson:                   1.995\n",
       "Prob(Omnibus):                  0.008   Jarque-Bera (JB):               11.100\n",
       "Skew:                          -0.021   Prob(JB):                      0.00389\n",
       "Kurtosis:                       3.174   Cond. No.                         767.\n",
       "==============================================================================\n",
       "\n",
       "Notes:\n",
       "[1] Standard Errors assume that the covariance matrix of the errors is correctly specified.\n",
       "\"\"\""
      ]
     },
     "execution_count": 46,
     "metadata": {},
     "output_type": "execute_result"
    }
   ],
   "source": [
    "frames = [X_train, y_train]\n",
    "result = pd.concat(frames, axis = 1)\n",
    "\n",
    "bedrooms = X_train[\"bedrooms\"]\n",
    "bathrooms = X_train[\"bathrooms\"]\n",
    "sqft_living = X_train[\"sqft_living\"]\n",
    "floors = X_train[\"floors\"]\n",
    "waterfront = X_train[\"waterfront\"]\n",
    "condition = X_train[\"condition\"]\n",
    "grade = X_train[\"grade\"]\n",
    "sqft_above = X_train[\"sqft_above\"]\n",
    "sqft_living15= X_train[\"sqft_living15\"]\n",
    "sqft_lot15= X_train[\"sqft_lot15\"]\n",
    "house_age= X_train[\"house_age\"]\n",
    "#sqft_basement= X_train[\"sqft_basement\"]\n",
    "\n",
    "\n",
    "Y= y_train\n",
    "\n",
    "\n",
    "formula = 'Y~view+bedrooms+bathrooms+sqft_living+floors+waterfront+condition+sqft_basement+grade+sqft_above+sqft_living15+sqft_lot+sqft_lot15+house_age'\n",
    "tv_mod = ols(formula=formula, data=result).fit()\n",
    "tv_mod_summ = tv_mod.summary()\n",
    "tv_mod_summ"
   ]
  },
  {
   "cell_type": "markdown",
   "metadata": {},
   "source": [
    "## Using forward selection \n",
    "\"optimizing adjusted R-squared by adding features that help the most one at a time until the score goes down or you run out of features\"\n",
    "source: https://planspace.org/20150423-forward_selection_with_statsmodels/"
   ]
  },
  {
   "cell_type": "code",
   "execution_count": 47,
   "metadata": {},
   "outputs": [],
   "source": [
    "import statsmodels.formula.api as smf\n",
    "\n",
    "def forward_selected(data, response):\n",
    "    \"\"\"Linear model designed by forward selection.\n",
    "\n",
    "    Parameters:\n",
    "    -----------\n",
    "    data : pandas DataFrame with all possible predictors and response\n",
    "\n",
    "    response: string, name of response column in data\n",
    "\n",
    "    Returns:\n",
    "    --------\n",
    "    model: an \"optimal\" fitted statsmodels linear model\n",
    "           with an intercept\n",
    "           selected by forward selection\n",
    "           evaluated by adjusted R-squared\n",
    "    \"\"\"\n",
    "    remaining = set(data.columns)\n",
    "    remaining.remove(response)\n",
    "    selected = []\n",
    "    current_score, best_new_score = 0.0, 0.0\n",
    "    while remaining and current_score == best_new_score:\n",
    "        scores_with_candidates = []\n",
    "        for candidate in remaining:\n",
    "            formula = \"{} ~ {} + 1\".format(response,\n",
    "                                           ' + '.join(selected + [candidate]))\n",
    "            score = smf.ols(formula, data).fit().rsquared_adj\n",
    "            scores_with_candidates.append((score, candidate))\n",
    "        scores_with_candidates.sort()\n",
    "        best_new_score, best_candidate = scores_with_candidates.pop()\n",
    "        if current_score < best_new_score:\n",
    "            remaining.remove(best_candidate)\n",
    "            selected.append(best_candidate)\n",
    "            current_score = best_new_score\n",
    "    formula = \"{} ~ {} + 1\".format(response,\n",
    "                                   ' + '.join(selected))\n",
    "    model = smf.ols(formula, data).fit()\n",
    "    return model\n"
   ]
  },
  {
   "cell_type": "code",
   "execution_count": 48,
   "metadata": {},
   "outputs": [
    {
     "name": "stdout",
     "output_type": "stream",
     "text": [
      "price ~ sqft_living_grade + county_lat + sqft_house_neighbors + view + condition + long_lat + yr_renovated + sqft_living_waterfront + date + house_age + floors + bathrooms + bedrooms + sqft_above + sqft_basement + sqft_living_age + zipcode + sqft15_grade + sqft_living15 + grade + sqft_living + sqft_lot15 + sqft_lot + sqft_lot_age + bed_bath + county_long + long + lat + waterfront + 1\n",
      "0.8051139972266945\n"
     ]
    }
   ],
   "source": [
    "model = forward_selected(df1, \"price\")\n",
    "print(model.model.formula)\n",
    "print(model.rsquared_adj)"
   ]
  },
  {
   "cell_type": "code",
   "execution_count": 49,
   "metadata": {},
   "outputs": [
    {
     "name": "stdout",
     "output_type": "stream",
     "text": [
      "price ~ sqft_living_grade + county_lat + sqft_living_age + sqft_house_neighbors + view + condition + long_lat + sqft_living_waterfront + date + yr_renovated + floors + bedrooms + bed_bath + zipcode + sqft_above + house_age + sqft_basement + sqft15_grade + sqft_living15 + grade + sqft_living + long + lat + sqft_lot + sqft_lot_age + sqft_lot15 + bathrooms + waterfront + x0_2 + season + 1\n",
      "0.8041043935642072\n"
     ]
    }
   ],
   "source": [
    "model = forward_selected(cleaned_df, \"price\")\n",
    "print(model.model.formula)\n",
    "print(model.rsquared_adj)"
   ]
  },
  {
   "cell_type": "code",
   "execution_count": 50,
   "metadata": {},
   "outputs": [
    {
     "name": "stdout",
     "output_type": "stream",
     "text": [
      "price ~ grade + house_age + sqft_living + view + sqft_lot15 + sqft_living15 + floors + bedrooms + waterfront + condition + bathrooms + sqft_basement + sqft_above + sqft_lot + 1\n",
      "0.641586794367901\n"
     ]
    }
   ],
   "source": [
    "model = forward_selected(result, \"price\")\n",
    "print(model.model.formula)\n",
    "print(model.rsquared_adj)"
   ]
  },
  {
   "cell_type": "code",
   "execution_count": 51,
   "metadata": {
    "scrolled": true
   },
   "outputs": [
    {
     "data": {
      "text/plain": [
       "<AxesSubplot:>"
      ]
     },
     "execution_count": 51,
     "metadata": {},
     "output_type": "execute_result"
    },
    {
     "data": {
      "image/png": "[encoded data removed]",
      "text/plain": [
       "<Figure size 432x288 with 1 Axes>"
      ]
     },
     "metadata": {
      "needs_background": "light"
     },
     "output_type": "display_data"
    }
   ],
   "source": [
    "cleaned_df[\"lat\"].hist()"
   ]
  },
  {
   "cell_type": "code",
   "execution_count": 52,
   "metadata": {},
   "outputs": [
    {
     "ename": "NameError",
     "evalue": "name 'df_outlier33' is not defined",
     "output_type": "error",
     "traceback": [
      "\u001b[0;31m---------------------------------------------------------------------------\u001b[0m",
      "\u001b[0;31mNameError\u001b[0m                                 Traceback (most recent call last)",
      "\u001b[0;32m<ipython-input-52-0306f1ac52a1>\u001b[0m in \u001b[0;36m<module>\u001b[0;34m\u001b[0m\n\u001b[1;32m      1\u001b[0m \u001b[0;31m# 1 means north of the county, 0 means south of the county\u001b[0m\u001b[0;34m\u001b[0m\u001b[0;34m\u001b[0m\u001b[0;34m\u001b[0m\u001b[0m\n\u001b[0;32m----> 2\u001b[0;31m \u001b[0mcleaned_df\u001b[0m\u001b[0;34m[\u001b[0m\u001b[0;34m\"lat\"\u001b[0m\u001b[0;34m]\u001b[0m \u001b[0;34m=\u001b[0m \u001b[0;34m[\u001b[0m\u001b[0;36m1\u001b[0m \u001b[0;32mif\u001b[0m \u001b[0mx\u001b[0m \u001b[0;34m<=\u001b[0m \u001b[0;36m47.5000\u001b[0m \u001b[0;32melse\u001b[0m \u001b[0;36m0\u001b[0m \u001b[0;32mfor\u001b[0m \u001b[0mx\u001b[0m \u001b[0;32min\u001b[0m \u001b[0mdf_outlier33\u001b[0m\u001b[0;34m[\u001b[0m\u001b[0;34m\"lat\"\u001b[0m\u001b[0;34m]\u001b[0m\u001b[0;34m]\u001b[0m\u001b[0;34m\u001b[0m\u001b[0;34m\u001b[0m\u001b[0m\n\u001b[0m",
      "\u001b[0;31mNameError\u001b[0m: name 'df_outlier33' is not defined"
     ]
    }
   ],
   "source": [
    "# 1 means north of the county, 0 means south of the county\n",
    "cleaned_df[\"lat\"] = [1 if x <= 47.5000 else 0 for x in df_outlier33[\"lat\"]]"
   ]
  },
  {
   "cell_type": "markdown",
   "metadata": {},
   "source": [
    "### Model 1 # eliminate variables causing multicollinearity"
   ]
  },
  {
   "cell_type": "code",
   "execution_count": null,
   "metadata": {},
   "outputs": [],
   "source": [
    "cleaned_df.corr()"
   ]
  },
  {
   "cell_type": "markdown",
   "metadata": {},
   "source": [
    "#### Calculate VIF to Drop Columns for Multicollinearity"
   ]
  },
  {
   "cell_type": "code",
   "execution_count": null,
   "metadata": {},
   "outputs": [],
   "source": [
    "from statsmodels.stats.outliers_influence import variance_inflation_factor\n",
    "\n",
    "vif = pd.DataFrame()\n",
    "vif[\"VIF Factor\"] = [variance_inflation_factor(X_train.values, i) for i in range(X_train.shape[1])]\n",
    "vif[\"features\"] = X_train.columns\n",
    "vif.sort_values(\"VIF Factor\")"
   ]
  },
  {
   "cell_type": "code",
   "execution_count": null,
   "metadata": {},
   "outputs": [],
   "source": [
    "df11=cleaned_df.corr().abs().stack().reset_index().sort_values(0, ascending=False)\n",
    "\n",
    "# zip the variable name columns (Which were only named level_0 and level_1 by default) in a new column named \"pairs\"\n",
    "df11['pairs'] = list(zip(df11.level_0, df11.level_1))\n",
    "\n",
    "# set index to pairs\n",
    "df11.set_index(['pairs'], inplace = True)\n",
    "\n",
    "#d rop level columns\n",
    "df11.drop(columns=['level_1', 'level_0'], inplace = True)\n",
    "\n",
    "# rename correlation column as cc rather than 0\n",
    "df11.columns = ['cc']\n",
    "\n",
    "# drop duplicates. This could be dangerous if you have variables perfectly correlated with variables other than themselves.\n",
    "# for the sake of exercise, kept it in.\n",
    "df11.drop_duplicates(inplace=True)"
   ]
  },
  {
   "cell_type": "code",
   "execution_count": null,
   "metadata": {},
   "outputs": [],
   "source": [
    "df11[(df11.cc>.5) & (df11.cc <1)]"
   ]
  },
  {
   "cell_type": "code",
   "execution_count": null,
   "metadata": {},
   "outputs": [],
   "source": [
    "import seaborn as sns\n",
    "sns.heatmap(X_train.corr(), center=0);"
   ]
  },
  {
   "cell_type": "code",
   "execution_count": null,
   "metadata": {},
   "outputs": [],
   "source": [
    "#pd.plotting.scatter_matrix(cleaned_df,figsize  = [24, 24]);\n",
    "#plt.show()"
   ]
  },
  {
   "cell_type": "code",
   "execution_count": null,
   "metadata": {},
   "outputs": [],
   "source": [
    "sns.jointplot('sqft_living','price', data=cleaned_df, kind='reg');"
   ]
  },
  {
   "cell_type": "code",
   "execution_count": null,
   "metadata": {},
   "outputs": [],
   "source": [
    "sns.jointplot('sqft_living','sqft_above', data=cleaned_df, kind='reg');"
   ]
  },
  {
   "cell_type": "code",
   "execution_count": null,
   "metadata": {},
   "outputs": [],
   "source": [
    "sns.jointplot('grade','price', data=cleaned_df, kind='reg');"
   ]
  },
  {
   "cell_type": "code",
   "execution_count": null,
   "metadata": {},
   "outputs": [],
   "source": [
    "y = cleaned_df[\"price\"]\n",
    "X = cleaned_df[['bedrooms', 'bathrooms', 'sqft_lot', 'floors',\n",
    "       'waterfront', 'condition', \"sqft_basement\",\n",
    "       'sqft_living15', 'sqft_lot15', 'house_age']]\n",
    "\n",
    "X_train, X_test, y_train, y_test = train_test_split(X, \n",
    "                                                    y,\n",
    "                                                    test_size=0.25,\n",
    "                                                    random_state=10\n",
    ")\n",
    "\n",
    "\n",
    "# Scale training and testing data\n",
    "scaler = StandardScaler()\n",
    "\n",
    "X_train_scale = scaler.fit_transform(X_train)\n",
    "X_test_scale = scaler.fit_transform(X_test)\n",
    "\n",
    "# Create Model\n",
    "\n",
    "# Create the model object\n",
    "reg = LinearRegression()\n",
    "\n",
    "# Fit the model to the dataset\n",
    "result = reg.fit(X_train_scale, y_train)\n",
    "\n",
    "# Retrieve estimated slope coefficient\n",
    "print(result.coef_)\n",
    "\n",
    "# Retrieve estimated y-intercept coefficient\n",
    "print(result.intercept_)\n",
    "\n",
    "# Make predictions\n",
    "y_hat_train = result.predict(X_train_scale)\n",
    "y_hat_test = result.predict(X_test_scale)\n",
    "\n",
    "print(y_hat_train)\n",
    "\n",
    "print(y_hat_test)\n",
    "\n",
    "lr = LinearRegression()\n",
    "lr.fit(X_train_scale, y_train)"
   ]
  },
  {
   "cell_type": "code",
   "execution_count": null,
   "metadata": {},
   "outputs": [],
   "source": [
    "y_train_r2 = r2_score(y_train, y_hat_train)\n",
    "print(y_train_r2)\n",
    "y_test_r2 = r2_score(y_test, y_hat_test)\n",
    "print(y_test_r2)\n",
    "\n",
    "y_train_rmse = mean_squared_error(np.exp(y_train), np.exp(y_hat_train), squared = False)\n",
    "print(y_train_rmse)\n",
    "y_test_rmse = mean_squared_error(np.exp(y_test), np.exp(y_hat_test), squared = False)\n",
    "print(y_test_rmse)"
   ]
  },
  {
   "cell_type": "code",
   "execution_count": null,
   "metadata": {},
   "outputs": [],
   "source": [
    "#MAE\n",
    "metrics.mean_absolute_error(y_train, lr.predict(X_train_scale))"
   ]
  },
  {
   "cell_type": "code",
   "execution_count": null,
   "metadata": {},
   "outputs": [],
   "source": [
    "metrics.mean_absolute_error(y_test, lr.predict(X_test_scale))"
   ]
  },
  {
   "cell_type": "code",
   "execution_count": null,
   "metadata": {},
   "outputs": [],
   "source": [
    "#RMSE\n",
    "np.sqrt(metrics.mean_squared_error(y_train, lr.predict(X_train_scale)))"
   ]
  },
  {
   "cell_type": "code",
   "execution_count": null,
   "metadata": {},
   "outputs": [],
   "source": [
    "np.sqrt(metrics.mean_squared_error(y_test, lr.predict(X_test_scale)))"
   ]
  },
  {
   "cell_type": "code",
   "execution_count": null,
   "metadata": {},
   "outputs": [],
   "source": [
    "frames = [X_train, y_train]\n",
    "result = pd.concat(frames, axis = 1)\n",
    "\n",
    "bedrooms = X_train[\"bedrooms\"]\n",
    "bathrooms = X_train[\"bathrooms\"]\n",
    "#sqft_living = X_train[\"sqft_living\"]\n",
    "floors = X_train[\"floors\"]\n",
    "waterfront = X_train[\"waterfront\"]\n",
    "condition = X_train[\"condition\"]\n",
    "#grade = X_train[\"grade\"]\n",
    "#sqft_above = X_train[\"sqft_above\"]\n",
    "sqft_living15= X_train[\"sqft_living15\"]\n",
    "sqft_lot15= X_train[\"sqft_lot15\"]\n",
    "house_age= X_train[\"house_age\"]\n",
    "sqft_basement= X_train[\"sqft_basement\"]\n",
    "\n",
    "\n",
    "Y= y_train\n",
    "\n",
    "\n",
    "formula = 'Y~bedrooms+bathrooms+floors+waterfront+condition+sqft_basement+sqft_living15+sqft_lot+sqft_lot15+house_age'\n",
    "tv_mod = ols(formula=formula, data=result).fit()\n",
    "tv_mod_summ = tv_mod.summary()\n",
    "tv_mod_summ"
   ]
  },
  {
   "cell_type": "markdown",
   "metadata": {},
   "source": [
    "# model 2 "
   ]
  },
  {
   "cell_type": "code",
   "execution_count": null,
   "metadata": {},
   "outputs": [],
   "source": [
    "cleaned_df[\"age_sqft_living\"] = cleaned_df[\"house_age\"] * cleaned_df[\"sqft_living\"] \n",
    "cleaned_df[\"waterfront_condition\"] = cleaned_df[\"waterfront\"] * cleaned_df[\"condition\"] \n",
    "cleaned_df[\"house_age_condition\"] = cleaned_df[\"house_age\"] * cleaned_df[\"condition\"] \n",
    "cleaned_df[\"sqft_basement_bedrooms\"] = cleaned_df[\"sqft_basement\"] * cleaned_df[\"bedrooms\"]\n",
    "cleaned_df[\"floors_condition\"] = cleaned_df[\"floors\"] * cleaned_df[\"condition\"]\n",
    "cleaned_df[\"grade_condition\"] = cleaned_df[\"grade\"] * cleaned_df[\"condition\"]\n",
    "cleaned_df[\"bedrooms_condition\"] = cleaned_df[\"bedrooms\"] * cleaned_df[\"condition\"]\n",
    "cleaned_df[\"sqft_basement_condition\"] = cleaned_df[\"sqft_basement\"] * cleaned_df[\"condition\"]\n",
    "cleaned_df[\"bathrooms_condition\"] = cleaned_df[\"bathrooms\"] * cleaned_df[\"condition\"]\n",
    "cleaned_df[\"sqft_living_condition\"] = cleaned_df[\"sqft_living\"] * cleaned_df[\"condition\"]"
   ]
  },
  {
   "cell_type": "code",
   "execution_count": null,
   "metadata": {},
   "outputs": [],
   "source": [
    "cleaned_df_interaction = cleaned_df"
   ]
  },
  {
   "cell_type": "code",
   "execution_count": null,
   "metadata": {},
   "outputs": [],
   "source": [
    "y = cleaned_df_interaction[\"price\"]\n",
    "X = cleaned_df_interaction[['bedrooms',\"sqft_living_condition\",\"bathrooms_condition\",\"sqft_basement_condition\",\"bedrooms_condition\",\"grade_condition\", \"floors_condition\",'bathrooms', 'sqft_living', 'sqft_lot', 'floors',\n",
    "       'waterfront', 'condition',\"grade\",'sqft_above', \"sqft_basement\",\n",
    "       'sqft_living15', 'sqft_lot15', 'house_age',\"age_sqft_living\",\"waterfront_condition\",\"house_age_condition\",\"sqft_basement_bedrooms\"]]\n",
    "\n",
    "\n",
    "#X = cleaned_df[['bathrooms', 'sqft_lot', 'floors',\n",
    "       #'waterfront', 'condition', 'sqft_above', 'lat', 'long',\n",
    "       #'sqft_living15', 'sqft_lot15', 'house_age']]\n",
    "\n",
    "X_train, X_test, y_train, y_test = train_test_split(X, \n",
    "                                                    y,\n",
    "                                                    test_size=0.25,\n",
    "                                                    random_state=10\n",
    ")\n",
    "\n",
    "\n",
    "# Scale training and testing data\n",
    "scaler = StandardScaler()\n",
    "\n",
    "X_train_scale = scaler.fit_transform(X_train)\n",
    "X_test_scale = scaler.fit_transform(X_test)\n",
    "\n",
    "# Create Model\n",
    "\n",
    "# Create the model object\n",
    "reg = LinearRegression()\n",
    "\n",
    "# Fit the model to the dataset\n",
    "result = reg.fit(X_train_scale, y_train)\n",
    "\n",
    "# Retrieve estimated slope coefficient\n",
    "print(result.coef_)\n",
    "\n",
    "# Retrieve estimated y-intercept coefficient\n",
    "print(result.intercept_)\n",
    "\n",
    "# Make predictions\n",
    "y_hat_train = result.predict(X_train_scale)\n",
    "y_hat_test = result.predict(X_test_scale)\n",
    "\n",
    "print(y_hat_train)\n",
    "\n",
    "print(y_hat_test)"
   ]
  },
  {
   "cell_type": "code",
   "execution_count": null,
   "metadata": {},
   "outputs": [],
   "source": [
    "lr = LinearRegression()\n",
    "lr.fit(X_train_scale, y_train)"
   ]
  },
  {
   "cell_type": "code",
   "execution_count": null,
   "metadata": {},
   "outputs": [],
   "source": [
    "metrics.mean_absolute_error(y_train, lr.predict(X_train_scale))"
   ]
  },
  {
   "cell_type": "code",
   "execution_count": null,
   "metadata": {},
   "outputs": [],
   "source": [
    "y_train_r2 = r2_score(y_train, y_hat_train)\n",
    "print(y_train_r2)\n",
    "y_test_r2 = r2_score(y_test, y_hat_test)\n",
    "print(y_test_r2)\n",
    "\n",
    "y_train_rmse = mean_squared_error(np.exp(y_train), np.exp(y_hat_train), squared = False)\n",
    "print(y_train_rmse)\n",
    "y_test_rmse = mean_squared_error(np.exp(y_test), np.exp(y_hat_test), squared = False)\n",
    "print(y_test_rmse)"
   ]
  },
  {
   "cell_type": "code",
   "execution_count": null,
   "metadata": {},
   "outputs": [],
   "source": [
    "metrics.mean_absolute_error(y_test, lr.predict(X_test_scale))"
   ]
  },
  {
   "cell_type": "code",
   "execution_count": null,
   "metadata": {},
   "outputs": [],
   "source": [
    "np.sqrt(metrics.mean_squared_error(y_train, lr.predict(X_train_scale)))"
   ]
  },
  {
   "cell_type": "code",
   "execution_count": null,
   "metadata": {
    "scrolled": true
   },
   "outputs": [],
   "source": [
    "np.sqrt(metrics.mean_squared_error(y_test, lr.predict(X_test_scale)))"
   ]
  },
  {
   "cell_type": "code",
   "execution_count": null,
   "metadata": {},
   "outputs": [],
   "source": [
    "frames = [X_train, y_train]\n",
    "result = pd.concat(frames, axis = 1)\n",
    "\n",
    "bedrooms = X_train[\"bedrooms\"]\n",
    "bathrooms = X_train[\"bathrooms\"]\n",
    "sqft_living = X_train[\"sqft_living\"]\n",
    "floors = X_train[\"floors\"]\n",
    "waterfront = X_train[\"waterfront\"]\n",
    "condition = X_train[\"condition\"]\n",
    "#grade = X_train[\"grade\"]\n",
    "#sqft_above = X_train[\"sqft_above\"]\n",
    "#sqft_living15= X_train[\"sqft_living15\"]\n",
    "sqft_lot15= X_train[\"sqft_lot15\"]\n",
    "house_age= X_train[\"house_age\"]\n",
    "sqft_basement= X_train[\"sqft_basement\"]\n",
    "age_sqft_living=X_train[\"age_sqft_living\"]\n",
    "waterfront_condition=X_train[\"waterfront_condition\"]\n",
    "house_age_condition=X_train[\"house_age_condition\"]\n",
    "sqft_basement_bedrooms=X_train[\"sqft_basement_bedrooms\"]\n",
    "floors_condition=X_train[\"floors_condition\"]\n",
    "grade_condition=X_train[\"grade_condition\"]\n",
    "sqft_living_condition=X_train[\"sqft_living_condition\"]\n",
    "\n",
    "Y= y_train\n",
    "\n",
    "\n",
    "formula = 'Y~bedrooms+sqft_living_condition+floors_condition+grade_condition+house_age_condition+sqft_basement_bedrooms+bathrooms+sqft_living+floors+waterfront+condition+sqft_basement+grade+sqft_above+sqft_living15+sqft_lot+sqft_lot15+house_age+waterfront_condition+age_sqft_living'\n",
    "tv_mod = ols(formula=formula, data=result).fit()\n",
    "tv_mod_summ = tv_mod.summary()\n",
    "tv_mod_summ"
   ]
  },
  {
   "cell_type": "code",
   "execution_count": null,
   "metadata": {},
   "outputs": [],
   "source": [
    "vif = pd.DataFrame()\n",
    "vif[\"VIF Factor\"] = [variance_inflation_factor(X_train.values, i) for i in range(X_train.shape[1])]\n",
    "vif[\"features\"] = X_train.columns\n",
    "vif.sort_values(\"VIF Factor\")"
   ]
  },
  {
   "cell_type": "markdown",
   "metadata": {},
   "source": [
    "### model 4 start from the beginning "
   ]
  },
  {
   "cell_type": "code",
   "execution_count": null,
   "metadata": {},
   "outputs": [],
   "source": [
    "pd.set_option(\"display.max_rows\", None)"
   ]
  },
  {
   "cell_type": "code",
   "execution_count": null,
   "metadata": {},
   "outputs": [],
   "source": [
    "df_3 = df1.drop(columns=[\"zipcode\", \"id\",\"date\", \"lat\", \"long\"])"
   ]
  },
  {
   "cell_type": "code",
   "execution_count": null,
   "metadata": {},
   "outputs": [],
   "source": [
    "df_3_dropped_na = df_3.dropna(axis=0, how='any')"
   ]
  },
  {
   "cell_type": "code",
   "execution_count": null,
   "metadata": {},
   "outputs": [],
   "source": [
    "df_3_dropped_na[\"house_age\"] = 2021 - df_dropped_na[\"yr_built\"]"
   ]
  },
  {
   "cell_type": "code",
   "execution_count": null,
   "metadata": {},
   "outputs": [],
   "source": [
    "df_3_dropped_na[\"yr_renovated\"] = df_3_dropped_na[\"yr_renovated\"].fillna(0)"
   ]
  },
  {
   "cell_type": "code",
   "execution_count": null,
   "metadata": {},
   "outputs": [],
   "source": [
    "# 0 means no rennovation or unknown 1 means rennovation was done at some point\n",
    "df_3_dropped_na[\"yr_renovated\"] = [0 if x == 0 else 1 for x in df_3_dropped_na[\"yr_renovated\"]]"
   ]
  },
  {
   "cell_type": "code",
   "execution_count": null,
   "metadata": {},
   "outputs": [],
   "source": [
    "df_3_dropped_na[\"yr_renovated\"].value_counts()"
   ]
  },
  {
   "cell_type": "code",
   "execution_count": null,
   "metadata": {},
   "outputs": [],
   "source": [
    "df_3_outlier33 = df_3_dropped_na[df_3_dropped_na.bedrooms < 33]"
   ]
  },
  {
   "cell_type": "code",
   "execution_count": null,
   "metadata": {},
   "outputs": [],
   "source": [
    "df_3_outlier33 = df_3_outlier33[df_3_outlier33.sqft_basement != \"?\"]"
   ]
  },
  {
   "cell_type": "code",
   "execution_count": null,
   "metadata": {},
   "outputs": [],
   "source": [
    "df_3_outlier33[\"sqft_basement\"] = df_3_outlier33[\"sqft_basement\"].astype(str).astype(float).astype(int)\n",
    "df_3_outlier33[\"sqft_basement\"] = [1 if x > 0 else 0 for x in df_3_outlier33[\"sqft_basement\"]]"
   ]
  },
  {
   "cell_type": "code",
   "execution_count": null,
   "metadata": {},
   "outputs": [],
   "source": [
    "df_3_cleaned = df_3_outlier33"
   ]
  },
  {
   "cell_type": "code",
   "execution_count": null,
   "metadata": {},
   "outputs": [],
   "source": [
    "df_3_cleaned.columns"
   ]
  },
  {
   "cell_type": "code",
   "execution_count": null,
   "metadata": {},
   "outputs": [],
   "source": [
    "df_3_cleaned[\"price\"].mean()"
   ]
  },
  {
   "cell_type": "code",
   "execution_count": null,
   "metadata": {},
   "outputs": [],
   "source": [
    "df_3_cleaned=df_3_cleaned.replace('?',np.nan).dropna(axis = 0, how = 'any')"
   ]
  },
  {
   "cell_type": "code",
   "execution_count": null,
   "metadata": {},
   "outputs": [],
   "source": [
    "df_3_cleaned.shape"
   ]
  },
  {
   "cell_type": "code",
   "execution_count": null,
   "metadata": {},
   "outputs": [],
   "source": [
    "y = df_3_cleaned[\"price\"]\n",
    "X = df_3_cleaned[['bedrooms', 'bathrooms', 'sqft_living', 'sqft_lot', 'floors',\n",
    "       'waterfront', 'view', 'condition', 'grade', 'sqft_above',\n",
    "       'sqft_basement', 'yr_built', 'yr_renovated', 'sqft_living15',\n",
    "       'sqft_lot15', 'house_age']]\n",
    "\n",
    "\n",
    "\n",
    "\n",
    "#X = cleaned_df[['bathrooms', 'sqft_lot', 'floors',\n",
    "       #'waterfront', 'condition', 'sqft_above', 'lat', 'long',\n",
    "       #'sqft_living15', 'sqft_lot15', 'house_age']]\n",
    "\n",
    "X_train, X_test, y_train, y_test = train_test_split(X, \n",
    "                                                    y,\n",
    "                                                    test_size=0.25,\n",
    "                                                    random_state=10\n",
    ")\n",
    "\n",
    "\n",
    "# Scale training and testing data\n",
    "scaler = StandardScaler()\n",
    "\n",
    "X_train_scale = scaler.fit_transform(X_train)\n",
    "X_test_scale = scaler.fit_transform(X_test)\n",
    "\n",
    "# Create Model\n",
    "\n",
    "# Create the model object\n",
    "reg = LinearRegression()\n",
    "\n",
    "# Fit the model to the dataset\n",
    "result = reg.fit(X_train_scale, y_train)\n",
    "\n",
    "# Retrieve estimated slope coefficient\n",
    "print(result.coef_)\n",
    "\n",
    "# Retrieve estimated y-intercept coefficient\n",
    "print(result.intercept_)\n",
    "\n",
    "# Make predictions\n",
    "y_hat_train = result.predict(X_train_scale)\n",
    "y_hat_test = result.predict(X_test_scale)\n",
    "\n",
    "print(y_hat_train)\n",
    "\n",
    "print(y_hat_test)"
   ]
  },
  {
   "cell_type": "code",
   "execution_count": null,
   "metadata": {},
   "outputs": [],
   "source": [
    "lr = LinearRegression()\n",
    "lr.fit(X_train_scale, y_train)"
   ]
  },
  {
   "cell_type": "code",
   "execution_count": null,
   "metadata": {},
   "outputs": [],
   "source": [
    "from sklearn.metrics import mean_squared_error\n",
    "from sklearn.metrics import r2_score\n",
    "\n",
    "y_train_r2 = r2_score(y_train, y_hat_train)\n",
    "print(y_train_r2)\n",
    "y_test_r2 = r2_score(y_test, y_hat_test)\n",
    "print(y_test_r2)\n",
    "\n",
    "y_train_rmse = mean_squared_error(np.exp(y_train), np.exp(y_hat_train), squared = False)\n",
    "print(y_train_rmse)\n",
    "y_test_rmse = mean_squared_error(np.exp(y_test), np.exp(y_hat_test), squared = False)\n",
    "print(y_test_rmse)"
   ]
  },
  {
   "cell_type": "code",
   "execution_count": null,
   "metadata": {},
   "outputs": [],
   "source": [
    "metrics.mean_absolute_error(y_train, lr.predict(X_train_scale))"
   ]
  },
  {
   "cell_type": "code",
   "execution_count": null,
   "metadata": {},
   "outputs": [],
   "source": [
    "metrics.mean_absolute_error(y_test, lr.predict(X_test_scale))"
   ]
  },
  {
   "cell_type": "code",
   "execution_count": null,
   "metadata": {},
   "outputs": [],
   "source": [
    "np.sqrt(metrics.mean_squared_error(y_train, lr.predict(X_train_scale)))"
   ]
  },
  {
   "cell_type": "code",
   "execution_count": null,
   "metadata": {},
   "outputs": [],
   "source": [
    "np.sqrt(metrics.mean_squared_error(y_test, lr.predict(X_test_scale)))"
   ]
  },
  {
   "cell_type": "code",
   "execution_count": null,
   "metadata": {},
   "outputs": [],
   "source": [
    "frames = [X_train, y_train]\n",
    "result = pd.concat(frames, axis = 1)\n",
    "\n",
    "bedrooms = X_train[\"bedrooms\"]\n",
    "bathrooms = X_train[\"bathrooms\"]\n",
    "sqft_living = X_train[\"sqft_living\"]\n",
    "floors = X_train[\"floors\"]\n",
    "waterfront = X_train[\"waterfront\"]\n",
    "condition = X_train[\"condition\"]\n",
    "grade = X_train[\"grade\"]\n",
    "sqft_above = X_train[\"sqft_above\"]\n",
    "sqft_living15= X_train[\"sqft_living15\"]\n",
    "sqft_lot15= X_train[\"sqft_lot15\"]\n",
    "house_age= X_train[\"house_age\"]\n",
    "sqft_basement= X_train[\"sqft_basement\"]\n",
    "\n",
    "\n",
    "Y= y_train\n",
    "\n",
    "\n",
    "formula = 'Y~bedrooms+bathrooms+sqft_living+floors+waterfront+condition+sqft_basement+grade+sqft_above+sqft_living15+sqft_lot+sqft_lot15+house_age'\n",
    "tv_mod = ols(formula=formula, data=result).fit()\n",
    "tv_mod_summ = tv_mod.summary()\n",
    "tv_mod_summ"
   ]
  },
  {
   "cell_type": "markdown",
   "metadata": {},
   "source": [
    "### model 5"
   ]
  },
  {
   "cell_type": "code",
   "execution_count": null,
   "metadata": {},
   "outputs": [],
   "source": [
    "df_3_cleaned\n",
    "\n",
    "df_3_cleaned[\"age_sqft_living\"] = df_3_cleaned[\"house_age\"] * df_3_cleaned[\"sqft_living\"] \n",
    "df_3_cleaned[\"waterfront_condition\"] = df_3_cleaned[\"waterfront\"] * df_3_cleaned[\"condition\"] \n",
    "df_3_cleaned[\"house_age_condition\"] = df_3_cleaned[\"house_age\"] * df_3_cleaned[\"condition\"] \n",
    "df_3_cleaned[\"sqft_basement_bedrooms\"] = df_3_cleaned[\"sqft_basement\"] * df_3_cleaned[\"bedrooms\"]\n",
    "df_3_cleaned[\"floors_condition\"] = df_3_cleaned[\"floors\"] * df_3_cleaned[\"condition\"]\n",
    "df_3_cleaned[\"grade_condition\"] = df_3_cleaned[\"grade\"] * df_3_cleaned[\"condition\"]\n",
    "df_3_cleaned[\"bedrooms_condition\"] = df_3_cleaned[\"bedrooms\"] * df_3_cleaned[\"condition\"]\n",
    "df_3_cleaned[\"sqft_basement_condition\"] = df_3_cleaned[\"sqft_basement\"] * df_3_cleaned[\"condition\"]\n",
    "df_3_cleaned[\"bathrooms_condition\"] = df_3_cleaned[\"bathrooms\"] * df_3_cleaned[\"condition\"]\n",
    "df_3_cleaned[\"sqft_living_condition\"] = df_3_cleaned[\"sqft_living\"] * df_3_cleaned[\"condition\"]"
   ]
  },
  {
   "cell_type": "code",
   "execution_count": null,
   "metadata": {},
   "outputs": [],
   "source": [
    "cleaned_df_3_interaction = cleaned_df"
   ]
  },
  {
   "cell_type": "code",
   "execution_count": null,
   "metadata": {},
   "outputs": [],
   "source": [
    "y = cleaned_df_3_interaction[\"price\"]\n",
    "X = cleaned_df_3_interaction[['bedrooms',\"sqft_living_condition\",\"bathrooms_condition\",\"sqft_basement_condition\",\"bedrooms_condition\",\"grade_condition\", \"floors_condition\",'bathrooms', 'sqft_living', 'sqft_lot', 'floors',\n",
    "       'waterfront', 'condition',\"grade\",'sqft_above', \"sqft_basement\",\n",
    "       'sqft_living15', 'sqft_lot15', 'house_age',\"age_sqft_living\",\"waterfront_condition\",\"house_age_condition\",\"sqft_basement_bedrooms\"]]\n",
    "\n",
    "\n",
    "#X = cleaned_df[['bathrooms', 'sqft_lot', 'floors',\n",
    "       #'waterfront', 'condition', 'sqft_above', 'lat', 'long',\n",
    "       #'sqft_living15', 'sqft_lot15', 'house_age']]\n",
    "\n",
    "X_train, X_test, y_train, y_test = train_test_split(X, \n",
    "                                                    y,\n",
    "                                                    test_size=0.25,\n",
    "                                                    random_state=10\n",
    ")\n",
    "\n",
    "\n",
    "# Scale training and testing data\n",
    "scaler = StandardScaler()\n",
    "\n",
    "X_train_scale = scaler.fit_transform(X_train)\n",
    "X_test_scale = scaler.fit_transform(X_test)\n",
    "\n",
    "# Create Model\n",
    "\n",
    "# Create the model object\n",
    "reg = LinearRegression()\n",
    "\n",
    "# Fit the model to the dataset\n",
    "result = reg.fit(X_train_scale, y_train)\n",
    "\n",
    "# Retrieve estimated slope coefficient\n",
    "print(result.coef_)\n",
    "\n",
    "# Retrieve estimated y-intercept coefficient\n",
    "print(result.intercept_)\n",
    "\n",
    "# Make predictions\n",
    "y_hat_train = result.predict(X_train_scale)\n",
    "y_hat_test = result.predict(X_test_scale)\n",
    "\n",
    "print(y_hat_train)\n",
    "\n",
    "print(y_hat_test)"
   ]
  },
  {
   "cell_type": "code",
   "execution_count": null,
   "metadata": {},
   "outputs": [],
   "source": [
    "lr = LinearRegression()\n",
    "lr.fit(X_train_scale, y_train)"
   ]
  },
  {
   "cell_type": "code",
   "execution_count": null,
   "metadata": {},
   "outputs": [],
   "source": [
    "metrics.mean_absolute_error(y_train, lr.predict(X_train_scale))"
   ]
  },
  {
   "cell_type": "code",
   "execution_count": null,
   "metadata": {},
   "outputs": [],
   "source": [
    "metrics.mean_absolute_error(y_test, lr.predict(X_test_scale))"
   ]
  },
  {
   "cell_type": "code",
   "execution_count": null,
   "metadata": {},
   "outputs": [],
   "source": [
    "np.sqrt(metrics.mean_squared_error(y_train, lr.predict(X_train_scale)))"
   ]
  },
  {
   "cell_type": "code",
   "execution_count": null,
   "metadata": {},
   "outputs": [],
   "source": [
    "np.sqrt(metrics.mean_squared_error(y_test, lr.predict(X_test_scale)))"
   ]
  },
  {
   "cell_type": "code",
   "execution_count": null,
   "metadata": {},
   "outputs": [],
   "source": [
    "y_train_r2 = r2_score(y_train, y_hat_train)\n",
    "print(y_train_r2)\n",
    "y_test_r2 = r2_score(y_test, y_hat_test)\n",
    "print(y_test_r2)\n",
    "\n",
    "y_train_rmse = mean_squared_error(np.exp(y_train), np.exp(y_hat_train), squared = False)\n",
    "print(y_train_rmse)\n",
    "y_test_rmse = mean_squared_error(np.exp(y_test), np.exp(y_hat_test), squared = False)\n",
    "print(y_test_rmse)"
   ]
  },
  {
   "cell_type": "markdown",
   "metadata": {},
   "source": [
    "### model 6"
   ]
  },
  {
   "cell_type": "code",
   "execution_count": null,
   "metadata": {},
   "outputs": [],
   "source": [
    "df_3_cleaned\n",
    "\n",
    "df_3_cleaned[\"age_sqft_living\"] = df_3_cleaned[\"house_age\"] * df_3_cleaned[\"sqft_living\"] \n",
    "df_3_cleaned[\"waterfront_condition\"] = df_3_cleaned[\"waterfront\"] * df_3_cleaned[\"condition\"] \n",
    "df_3_cleaned[\"house_age_condition\"] = df_3_cleaned[\"house_age\"] * df_3_cleaned[\"condition\"] \n",
    "df_3_cleaned[\"sqft_basement_bedrooms\"] = df_3_cleaned[\"sqft_basement\"] * df_3_cleaned[\"bedrooms\"]\n",
    "df_3_cleaned[\"floors_condition\"] = df_3_cleaned[\"floors\"] * df_3_cleaned[\"condition\"]\n",
    "df_3_cleaned[\"grade_condition\"] = df_3_cleaned[\"grade\"] * df_3_cleaned[\"condition\"]\n",
    "df_3_cleaned[\"bedrooms_condition\"] = df_3_cleaned[\"bedrooms\"] * df_3_cleaned[\"condition\"]\n",
    "df_3_cleaned[\"sqft_basement_condition\"] = df_3_cleaned[\"sqft_basement\"] * df_3_cleaned[\"condition\"]\n",
    "df_3_cleaned[\"bathrooms_condition\"] = df_3_cleaned[\"bathrooms\"] * df_3_cleaned[\"condition\"]\n",
    "df_3_cleaned[\"sqft_living_condition\"] = df_3_cleaned[\"sqft_living\"] * df_3_cleaned[\"condition\"]"
   ]
  },
  {
   "cell_type": "code",
   "execution_count": null,
   "metadata": {},
   "outputs": [],
   "source": [
    "cleaned_df_3_interaction = df_3_cleaned"
   ]
  },
  {
   "cell_type": "code",
   "execution_count": null,
   "metadata": {},
   "outputs": [],
   "source": [
    "y = cleaned_df_3_interaction[\"price\"]\n",
    "X = cleaned_df_3_interaction[['bedrooms',\"grade\", 'sqft_lot',\"grade_condition\",\"sqft_basement_bedrooms\", \"sqft_living_condition\",\"bathrooms_condition\",\"sqft_basement_condition\",\"bedrooms_condition\",\"floors_condition\",'bathrooms', 'sqft_living', 'floors',\n",
    "       'waterfront', 'condition', \"sqft_basement\",\n",
    "      'house_age',\"age_sqft_living\",\"waterfront_condition\",\"house_age_condition\"]]\n",
    "\n",
    "\n",
    "#'sqft_above'\n",
    "#'sqft_living15', \n",
    "#'sqft_lot15', \n",
    "#\"sqft_basement_bedrooms\"\n",
    "#grade\n",
    "#\"grade_condition\"\n",
    "#\n",
    "\n",
    "X_train, X_test, y_train, y_test = train_test_split(X, \n",
    "                                                    y,\n",
    "                                                    test_size=0.25,\n",
    "                                                    random_state=10\n",
    ")\n",
    "\n",
    "\n",
    "# Scale training and testing data\n",
    "scaler = StandardScaler()\n",
    "\n",
    "X_train_scale = scaler.fit_transform(X_train)\n",
    "X_test_scale = scaler.fit_transform(X_test)\n",
    "\n",
    "# Create Model\n",
    "\n",
    "# Create the model object\n",
    "reg = LinearRegression()\n",
    "\n",
    "# Fit the model to the dataset\n",
    "result = reg.fit(X_train_scale, y_train)\n",
    "\n",
    "# Retrieve estimated slope coefficient\n",
    "print(result.coef_)\n",
    "\n",
    "# Retrieve estimated y-intercept coefficient\n",
    "print(result.intercept_)\n",
    "\n",
    "# Make predictions\n",
    "y_hat_train = result.predict(X_train_scale)\n",
    "y_hat_test = result.predict(X_test_scale)\n",
    "\n",
    "print(y_hat_train)\n",
    "\n",
    "print(y_hat_test)"
   ]
  },
  {
   "cell_type": "code",
   "execution_count": null,
   "metadata": {},
   "outputs": [],
   "source": [
    "lr = LinearRegression()\n",
    "lr.fit(X_train_scale, y_train)"
   ]
  },
  {
   "cell_type": "code",
   "execution_count": null,
   "metadata": {},
   "outputs": [],
   "source": [
    "metrics.mean_absolute_error(y_train, lr.predict(X_train_scale))"
   ]
  },
  {
   "cell_type": "code",
   "execution_count": null,
   "metadata": {},
   "outputs": [],
   "source": [
    "metrics.mean_absolute_error(y_test, lr.predict(X_test_scale))"
   ]
  },
  {
   "cell_type": "code",
   "execution_count": null,
   "metadata": {},
   "outputs": [],
   "source": [
    "np.sqrt(metrics.mean_squared_error(y_train, lr.predict(X_train_scale)))"
   ]
  },
  {
   "cell_type": "code",
   "execution_count": null,
   "metadata": {},
   "outputs": [],
   "source": [
    "np.sqrt(metrics.mean_squared_error(y_test, lr.predict(X_test_scale)))"
   ]
  },
  {
   "cell_type": "code",
   "execution_count": null,
   "metadata": {},
   "outputs": [],
   "source": [
    "frames = [X_train, y_train]\n",
    "result = pd.concat(frames, axis = 1)\n",
    "\n",
    "bedrooms = X_train[\"bedrooms\"]\n",
    "bathrooms = X_train[\"bathrooms\"]\n",
    "sqft_living = X_train[\"sqft_living\"]\n",
    "floors = X_train[\"floors\"]\n",
    "waterfront = X_train[\"waterfront\"]\n",
    "condition = X_train[\"condition\"]\n",
    "#grade = X_train[\"grade\"]\n",
    "#sqft_above = X_train[\"sqft_above\"]\n",
    "#sqft_living15= X_train[\"sqft_living15\"]\n",
    "#sqft_lot15= X_train[\"sqft_lot15\"]\n",
    "house_age= X_train[\"house_age\"]\n",
    "sqft_basement= X_train[\"sqft_basement\"]\n",
    "age_sqft_living=X_train[\"age_sqft_living\"]\n",
    "waterfront_condition=X_train[\"waterfront_condition\"]\n",
    "house_age_condition=X_train[\"house_age_condition\"]\n",
    "sqft_basement_bedrooms=X_train[\"sqft_basement_bedrooms\"]\n",
    "floors_condition=X_train[\"floors_condition\"]\n",
    "#grade_condition=X_train[\"grade_condition\"]\n",
    "sqft_living_condition=X_train[\"sqft_living_condition\"]\n",
    "\n",
    "\n",
    "\n",
    "Y= y_train\n",
    "\n",
    "formula = 'Y~bedrooms+grade+grade_condition+sqft_basement_bedrooms+sqft_lot+sqft_living_condition+bathrooms_condition+sqft_basement_condition+bedrooms_condition+floors_condition+bathrooms+sqft_living+floors++waterfront+condition+sqft_basement+house_age+age_sqft_living+waterfront_condition+house_age_condition'\n",
    "tv_mod = ols(formula=formula, data=result).fit()\n",
    "tv_mod_summ = tv_mod.summary()\n",
    "tv_mod_summ"
   ]
  },
  {
   "cell_type": "code",
   "execution_count": null,
   "metadata": {},
   "outputs": [],
   "source": [
    "y_train_r2 = r2_score(y_train, y_hat_train)\n",
    "print(y_train_r2)\n",
    "y_test_r2 = r2_score(y_test, y_hat_test)\n",
    "print(y_test_r2)\n",
    "\n",
    "y_train_rmse = mean_squared_error(np.exp(y_train), np.exp(y_hat_train), squared = False)\n",
    "print(y_train_rmse)\n",
    "y_test_rmse = mean_squared_error(np.exp(y_test), np.exp(y_hat_test), squared = False)\n",
    "print(y_test_rmse)"
   ]
  },
  {
   "cell_type": "code",
   "execution_count": null,
   "metadata": {},
   "outputs": [],
   "source": [
    "vif = pd.DataFrame()\n",
    "vif[\"VIF Factor\"] = [variance_inflation_factor(X_train.values, i) for i in range(X_train.shape[1])]\n",
    "vif[\"features\"] = X_train.columns\n",
    "vif.sort_values(\"VIF Factor\")"
   ]
  },
  {
   "cell_type": "code",
   "execution_count": null,
   "metadata": {},
   "outputs": [],
   "source": [
    "y_train_r2_12 = r2_score(y_train12, y_hat_train12)\n",
    "print(y_train_r2_12)\n",
    "y_test_r2_12 = r2_score(y_test12, y_hat_test12)\n",
    "print(y_test_r2_12)\n",
    "y_train_rmse12 = mean_squared_error(np.exp(y_train12), np.exp(y_hat_train12), squared = False)\n",
    "print(y_train_rmse12)\n",
    "y_test_rmse12 = mean_squared_error(np.exp(y_test12), np.exp(y_hat_test12), squared = False)\n",
    "print(y_test_rmse12)"
   ]
  }
 ],
 "metadata": {
  "kernelspec": {
   "display_name": "Python (learn-env)",
   "language": "python",
   "name": "learn-env"
  },
  "language_info": {
   "codemirror_mode": {
    "name": "ipython",
    "version": 3
   },
   "file_extension": ".py",
   "mimetype": "text/x-python",
   "name": "python",
   "nbconvert_exporter": "python",
   "pygments_lexer": "ipython3",
   "version": "3.8.8"
  }
 },
 "nbformat": 4,
 "nbformat_minor": 2
}
